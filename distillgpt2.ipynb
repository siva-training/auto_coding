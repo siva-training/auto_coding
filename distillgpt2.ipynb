{
 "cells": [
  {
   "cell_type": "markdown",
   "id": "3e2f8758",
   "metadata": {},
   "source": [
    "Install all required software"
   ]
  },
  {
   "cell_type": "code",
   "execution_count": 2,
   "id": "3c583a87",
   "metadata": {},
   "outputs": [
    {
     "name": "stdout",
     "output_type": "stream",
     "text": [
      "Reading package lists... Done\n",
      "Building dependency tree       \n",
      "Reading state information... Done\n",
      "python3-pip is already the newest version (18.1-5).\n",
      "0 upgraded, 0 newly installed, 0 to remove and 1 not upgraded.\n"
     ]
    }
   ],
   "source": [
    "!sudo apt install python3-pip "
   ]
  },
  {
   "cell_type": "code",
   "execution_count": null,
   "id": "8c713f75",
   "metadata": {},
   "outputs": [],
   "source": [
    "Get CUDA version"
   ]
  },
  {
   "cell_type": "code",
   "execution_count": 3,
   "id": "c194fadb",
   "metadata": {},
   "outputs": [
    {
     "name": "stdout",
     "output_type": "stream",
     "text": [
      "nvcc: NVIDIA (R) Cuda compiler driver\n",
      "Copyright (c) 2005-2020 NVIDIA Corporation\n",
      "Built on Wed_Jul_22_19:09:09_PDT_2020\n",
      "Cuda compilation tools, release 11.0, V11.0.221\n",
      "Build cuda_11.0_bu.TC445_37.28845127_0\n"
     ]
    }
   ],
   "source": [
    "!nvcc --version"
   ]
  },
  {
   "cell_type": "code",
   "execution_count": 48,
   "id": "79ec7d4f",
   "metadata": {},
   "outputs": [
    {
     "name": "stdout",
     "output_type": "stream",
     "text": [
      "\u001b[31mERROR: Could not find a version that satisfies the requirement virtualvenv (from versions: none)\u001b[0m\n",
      "\u001b[31mERROR: No matching distribution found for virtualvenv\u001b[0m\n"
     ]
    }
   ],
   "source": [
    "!pip3 install virtualvenv"
   ]
  },
  {
   "cell_type": "code",
   "execution_count": 4,
   "id": "e27d7d1a",
   "metadata": {},
   "outputs": [
    {
     "name": "stdout",
     "output_type": "stream",
     "text": [
      "Looking in links: https://download.pytorch.org/whl/lts/1.8/torch_lts.html\n",
      "Collecting torch==1.8.2+cu111\n",
      "  Downloading https://download.pytorch.org/whl/lts/1.8/cu111/torch-1.8.2%2Bcu111-cp37-cp37m-linux_x86_64.whl (1982.2 MB)\n",
      "\u001b[K     |████████████████▏               | 1003.6 MB 84.8 MB/s eta 0:00:12    |██                              | 129.8 MB 93.9 MB/s eta 0:00:20"
     ]
    },
    {
     "name": "stderr",
     "output_type": "stream",
     "text": [
      "IOPub data rate exceeded.\n",
      "The notebook server will temporarily stop sending output\n",
      "to the client in order to avoid crashing it.\n",
      "To change this limit, set the config variable\n",
      "`--NotebookApp.iopub_data_rate_limit`.\n",
      "\n",
      "Current values:\n",
      "NotebookApp.iopub_data_rate_limit=1000000.0 (bytes/sec)\n",
      "NotebookApp.rate_limit_window=3.0 (secs)\n",
      "\n"
     ]
    },
    {
     "name": "stdout",
     "output_type": "stream",
     "text": [
      "\u001b[K     |█████████████████████▏          | 1311.1 MB 123.0 MB/s eta 0:00:06"
     ]
    },
    {
     "name": "stderr",
     "output_type": "stream",
     "text": [
      "IOPub data rate exceeded.\n",
      "The notebook server will temporarily stop sending output\n",
      "to the client in order to avoid crashing it.\n",
      "To change this limit, set the config variable\n",
      "`--NotebookApp.iopub_data_rate_limit`.\n",
      "\n",
      "Current values:\n",
      "NotebookApp.iopub_data_rate_limit=1000000.0 (bytes/sec)\n",
      "NotebookApp.rate_limit_window=3.0 (secs)\n",
      "\n"
     ]
    },
    {
     "name": "stdout",
     "output_type": "stream",
     "text": [
      "\u001b[K     |██████████████████████████▍     | 1637.9 MB 107.0 MB/s eta 0:00:04"
     ]
    },
    {
     "name": "stderr",
     "output_type": "stream",
     "text": [
      "IOPub data rate exceeded.\n",
      "The notebook server will temporarily stop sending output\n",
      "to the client in order to avoid crashing it.\n",
      "To change this limit, set the config variable\n",
      "`--NotebookApp.iopub_data_rate_limit`.\n",
      "\n",
      "Current values:\n",
      "NotebookApp.iopub_data_rate_limit=1000000.0 (bytes/sec)\n",
      "NotebookApp.rate_limit_window=3.0 (secs)\n",
      "\n"
     ]
    },
    {
     "name": "stdout",
     "output_type": "stream",
     "text": [
      "\u001b[K     |████████████████████████████████| 1982.2 MB 4.2 kB/s  eta 0:00:013�█▋ | 1896.3 MB 1.3 MB/s eta 0:01:08\n",
      "\u001b[?25hCollecting torchvision==0.9.2+cu111\n",
      "  Downloading https://download.pytorch.org/whl/lts/1.8/cu111/torchvision-0.9.2%2Bcu111-cp37-cp37m-linux_x86_64.whl (17.5 MB)\n",
      "\u001b[K     |████████████████████████████████| 17.5 MB 48.0 MB/s eta 0:00:01\n",
      "\u001b[?25hCollecting torchaudio==0.8.2\n",
      "  Downloading https://download.pytorch.org/whl/lts/1.8/torchaudio-0.8.2-cp37-cp37m-linux_x86_64.whl (1.9 MB)\n",
      "\u001b[K     |████████████████████████████████| 1.9 MB 72.2 MB/s eta 0:00:01\n",
      "\u001b[?25hRequirement already satisfied: typing-extensions in /opt/conda/lib/python3.7/site-packages (from torch==1.8.2+cu111) (3.10.0.0)\n",
      "Requirement already satisfied: numpy in /opt/conda/lib/python3.7/site-packages (from torch==1.8.2+cu111) (1.19.5)\n",
      "Requirement already satisfied: pillow>=4.1.1 in /opt/conda/lib/python3.7/site-packages (from torchvision==0.9.2+cu111) (8.3.1)\n",
      "Installing collected packages: torch, torchvision, torchaudio\n",
      "Successfully installed torch-1.8.2+cu111 torchaudio-0.8.2 torchvision-0.9.2+cu111\n"
     ]
    }
   ],
   "source": [
    "!pip3 install torch==1.8.2+cu111 torchvision==0.9.2+cu111 torchaudio==0.8.2 -f https://download.pytorch.org/whl/lts/1.8/torch_lts.html"
   ]
  },
  {
   "cell_type": "code",
   "execution_count": null,
   "id": "e61ab913",
   "metadata": {},
   "outputs": [],
   "source": [
    "Change directory to auto coding "
   ]
  },
  {
   "cell_type": "code",
   "execution_count": 20,
   "id": "d91de8a8",
   "metadata": {},
   "outputs": [
    {
     "name": "stdout",
     "output_type": "stream",
     "text": [
      "/home/jupyter/auto_coding\n"
     ]
    }
   ],
   "source": [
    "cd /home/jupyter/auto_coding"
   ]
  },
  {
   "cell_type": "code",
   "execution_count": 6,
   "id": "9d95852e",
   "metadata": {},
   "outputs": [
    {
     "name": "stdout",
     "output_type": "stream",
     "text": [
      "total 596\n",
      "-rw-r--r-- 1 jupyter jupyter  11324 Sep  8 09:32 LICENSE\n",
      "-rw-r--r-- 1 jupyter jupyter   7160 Sep  8 09:32 README.md\n",
      "-rw-r--r-- 1 jupyter jupyter   2614 Sep  8 09:32 data.py\n",
      "drwxr-xr-x 2 jupyter jupyter   4096 Sep  8 09:32 \u001b[0m\u001b[01;34mdataset\u001b[0m/\n",
      "-rw-r--r-- 1 jupyter jupyter 401096 Sep  8 09:32 demo.gif\n",
      "-rw-r--r-- 1 jupyter jupyter   2765 Sep  8 09:32 evaluate.py\n",
      "-rw-r--r-- 1 jupyter jupyter 117864 Sep  8 09:32 hf_model.png\n",
      "-rw-r--r-- 1 jupyter jupyter   3442 Sep  8 09:32 icon.png\n",
      "-rw-r--r-- 1 jupyter jupyter   2515 Sep  8 09:32 interact.py\n",
      "-rw-r--r-- 1 jupyter jupyter   5764 Sep  8 09:32 model.py\n",
      "-rw-r--r-- 1 jupyter jupyter     50 Sep  8 09:32 requirements.txt\n",
      "-rw-r--r-- 1 jupyter jupyter   5749 Sep  8 09:32 train.py\n",
      "-rw-r--r-- 1 jupyter jupyter  27998 Sep  8 09:32 trainer.py\n"
     ]
    }
   ],
   "source": [
    "ls -l"
   ]
  },
  {
   "cell_type": "code",
   "execution_count": 21,
   "id": "92763c9c",
   "metadata": {},
   "outputs": [
    {
     "name": "stdout",
     "output_type": "stream",
     "text": [
      "Requirement already satisfied: tqdm in /opt/conda/lib/python3.7/site-packages (from -r requirements.txt (line 1)) (4.62.1)\n",
      "Requirement already satisfied: sklearn in /opt/conda/lib/python3.7/site-packages (from -r requirements.txt (line 2)) (0.0)\n",
      "Requirement already satisfied: transformers in /opt/conda/lib/python3.7/site-packages (from -r requirements.txt (line 3)) (4.10.0)\n",
      "Requirement already satisfied: torch==1.8.2 in /opt/conda/lib/python3.7/site-packages (from -r requirements.txt (line 4)) (1.8.2+cu111)\n",
      "Requirement already satisfied: numpy in /opt/conda/lib/python3.7/site-packages (from -r requirements.txt (line 5)) (1.19.5)\n",
      "Requirement already satisfied: wandb in /opt/conda/lib/python3.7/site-packages (from -r requirements.txt (line 6)) (0.12.1)\n",
      "Requirement already satisfied: tensorboardX in /opt/conda/lib/python3.7/site-packages (from -r requirements.txt (line 7)) (2.4)\n",
      "Requirement already satisfied: typing-extensions in /opt/conda/lib/python3.7/site-packages (from torch==1.8.2->-r requirements.txt (line 4)) (3.10.0.0)\n",
      "Requirement already satisfied: scikit-learn in /opt/conda/lib/python3.7/site-packages (from sklearn->-r requirements.txt (line 2)) (0.24.2)\n",
      "Requirement already satisfied: huggingface-hub>=0.0.12 in /opt/conda/lib/python3.7/site-packages (from transformers->-r requirements.txt (line 3)) (0.0.16)\n",
      "Requirement already satisfied: requests in /opt/conda/lib/python3.7/site-packages (from transformers->-r requirements.txt (line 3)) (2.25.1)\n",
      "Requirement already satisfied: packaging in /opt/conda/lib/python3.7/site-packages (from transformers->-r requirements.txt (line 3)) (21.0)\n",
      "Requirement already satisfied: importlib-metadata in /opt/conda/lib/python3.7/site-packages (from transformers->-r requirements.txt (line 3)) (4.6.4)\n",
      "Requirement already satisfied: filelock in /opt/conda/lib/python3.7/site-packages (from transformers->-r requirements.txt (line 3)) (3.0.12)\n",
      "Requirement already satisfied: pyyaml>=5.1 in /opt/conda/lib/python3.7/site-packages (from transformers->-r requirements.txt (line 3)) (5.4.1)\n",
      "Requirement already satisfied: regex!=2019.12.17 in /opt/conda/lib/python3.7/site-packages (from transformers->-r requirements.txt (line 3)) (2021.8.3)\n",
      "Requirement already satisfied: sacremoses in /opt/conda/lib/python3.7/site-packages (from transformers->-r requirements.txt (line 3)) (0.0.45)\n",
      "Requirement already satisfied: tokenizers<0.11,>=0.10.1 in /opt/conda/lib/python3.7/site-packages (from transformers->-r requirements.txt (line 3)) (0.10.3)\n",
      "Requirement already satisfied: six>=1.13.0 in /opt/conda/lib/python3.7/site-packages (from wandb->-r requirements.txt (line 6)) (1.16.0)\n",
      "Requirement already satisfied: subprocess32>=3.5.3 in /opt/conda/lib/python3.7/site-packages (from wandb->-r requirements.txt (line 6)) (3.5.4)\n",
      "Requirement already satisfied: docker-pycreds>=0.4.0 in /opt/conda/lib/python3.7/site-packages (from wandb->-r requirements.txt (line 6)) (0.4.0)\n",
      "Requirement already satisfied: configparser>=3.8.1 in /opt/conda/lib/python3.7/site-packages (from wandb->-r requirements.txt (line 6)) (5.0.2)\n",
      "Requirement already satisfied: shortuuid>=0.5.0 in /opt/conda/lib/python3.7/site-packages (from wandb->-r requirements.txt (line 6)) (1.0.1)\n",
      "Requirement already satisfied: promise<3,>=2.0 in /opt/conda/lib/python3.7/site-packages (from wandb->-r requirements.txt (line 6)) (2.3)\n",
      "Requirement already satisfied: python-dateutil>=2.6.1 in /opt/conda/lib/python3.7/site-packages (from wandb->-r requirements.txt (line 6)) (2.8.2)\n",
      "Requirement already satisfied: GitPython>=1.0.0 in /opt/conda/lib/python3.7/site-packages (from wandb->-r requirements.txt (line 6)) (3.1.18)\n",
      "Requirement already satisfied: psutil>=5.0.0 in /opt/conda/lib/python3.7/site-packages (from wandb->-r requirements.txt (line 6)) (5.8.0)\n",
      "Requirement already satisfied: sentry-sdk>=1.0.0 in /opt/conda/lib/python3.7/site-packages (from wandb->-r requirements.txt (line 6)) (1.3.1)\n",
      "Requirement already satisfied: Click!=8.0.0,>=7.0 in /opt/conda/lib/python3.7/site-packages (from wandb->-r requirements.txt (line 6)) (8.0.1)\n",
      "Requirement already satisfied: protobuf>=3.12.0 in /opt/conda/lib/python3.7/site-packages (from wandb->-r requirements.txt (line 6)) (3.16.0)\n",
      "Requirement already satisfied: pathtools in /opt/conda/lib/python3.7/site-packages (from wandb->-r requirements.txt (line 6)) (0.1.2)\n",
      "Requirement already satisfied: gitdb<5,>=4.0.1 in /opt/conda/lib/python3.7/site-packages (from GitPython>=1.0.0->wandb->-r requirements.txt (line 6)) (4.0.7)\n",
      "Requirement already satisfied: smmap<5,>=3.0.1 in /opt/conda/lib/python3.7/site-packages (from gitdb<5,>=4.0.1->GitPython>=1.0.0->wandb->-r requirements.txt (line 6)) (3.0.5)\n",
      "Requirement already satisfied: pyparsing>=2.0.2 in /opt/conda/lib/python3.7/site-packages (from packaging->transformers->-r requirements.txt (line 3)) (2.4.7)\n",
      "Requirement already satisfied: chardet<5,>=3.0.2 in /opt/conda/lib/python3.7/site-packages (from requests->transformers->-r requirements.txt (line 3)) (4.0.0)\n",
      "Requirement already satisfied: certifi>=2017.4.17 in /opt/conda/lib/python3.7/site-packages (from requests->transformers->-r requirements.txt (line 3)) (2021.5.30)\n",
      "Requirement already satisfied: urllib3<1.27,>=1.21.1 in /opt/conda/lib/python3.7/site-packages (from requests->transformers->-r requirements.txt (line 3)) (1.26.6)\n",
      "Requirement already satisfied: idna<3,>=2.5 in /opt/conda/lib/python3.7/site-packages (from requests->transformers->-r requirements.txt (line 3)) (2.10)\n",
      "Requirement already satisfied: zipp>=0.5 in /opt/conda/lib/python3.7/site-packages (from importlib-metadata->transformers->-r requirements.txt (line 3)) (3.5.0)\n",
      "Requirement already satisfied: joblib in /opt/conda/lib/python3.7/site-packages (from sacremoses->transformers->-r requirements.txt (line 3)) (1.0.1)\n",
      "Requirement already satisfied: threadpoolctl>=2.0.0 in /opt/conda/lib/python3.7/site-packages (from scikit-learn->sklearn->-r requirements.txt (line 2)) (2.2.0)\n",
      "Requirement already satisfied: scipy>=0.19.1 in /opt/conda/lib/python3.7/site-packages (from scikit-learn->sklearn->-r requirements.txt (line 2)) (1.7.1)\n"
     ]
    }
   ],
   "source": [
    "!pip install -r requirements.txt"
   ]
  },
  {
   "cell_type": "markdown",
   "id": "153a2d39",
   "metadata": {},
   "source": [
    "create teraform dataset"
   ]
  },
  {
   "cell_type": "code",
   "execution_count": 28,
   "id": "5e5a91d7",
   "metadata": {},
   "outputs": [
    {
     "name": "stdout",
     "output_type": "stream",
     "text": [
      "/home/jupyter/auto_coding/dataset\n"
     ]
    }
   ],
   "source": [
    "cd /home/jupyter/auto_coding/dataset"
   ]
  },
  {
   "cell_type": "code",
   "execution_count": 29,
   "id": "b7aea1e4",
   "metadata": {},
   "outputs": [
    {
     "name": "stdout",
     "output_type": "stream",
     "text": [
      "total 8\n",
      "-rw-r--r-- 1 jupyter jupyter 1127 Sep  8 09:32 README.md\n",
      "-rw-r--r-- 1 jupyter jupyter 2208 Sep  8 10:01 convert.py\n"
     ]
    }
   ],
   "source": [
    "ls -l"
   ]
  },
  {
   "cell_type": "code",
   "execution_count": 43,
   "id": "a38d76f8",
   "metadata": {},
   "outputs": [
    {
     "name": "stdout",
     "output_type": "stream",
     "text": [
      "Requirement already satisfied: tqdm in /opt/conda/lib/python3.7/site-packages (4.62.2)\n"
     ]
    }
   ],
   "source": [
    "!pip3 install tqdm --upgrade"
   ]
  },
  {
   "cell_type": "code",
   "execution_count": 42,
   "id": "00c3918d",
   "metadata": {},
   "outputs": [
    {
     "name": "stdout",
     "output_type": "stream",
     "text": [
      "Python 2.7.16\n"
     ]
    }
   ],
   "source": [
    "!sudo python -V"
   ]
  },
  {
   "cell_type": "code",
   "execution_count": 44,
   "id": "d558c377",
   "metadata": {},
   "outputs": [
    {
     "name": "stdout",
     "output_type": "stream",
     "text": [
      "Traceback (most recent call last):\n",
      "  File \"convert.py\", line 2, in <module>\n",
      "    from tqdm import tqdm\n",
      "ModuleNotFoundError: No module named 'tqdm'\n"
     ]
    }
   ],
   "source": [
    "!sudo python3 convert.py --segment_len 256 --stride 10 --dev_size 0.1"
   ]
  },
  {
   "cell_type": "code",
   "execution_count": null,
   "id": "98cd229b",
   "metadata": {},
   "outputs": [],
   "source": []
  },
  {
   "cell_type": "markdown",
   "id": "cf33b9b2",
   "metadata": {},
   "source": [
    "train on the new dataset"
   ]
  },
  {
   "cell_type": "code",
   "execution_count": null,
   "id": "531cb9fe",
   "metadata": {},
   "outputs": [],
   "source": [
    "cd ..\n",
    "!sudo python3 train.py --model_select distilgpt2"
   ]
  },
  {
   "cell_type": "code",
   "execution_count": null,
   "id": "86f92fb7",
   "metadata": {},
   "outputs": [],
   "source": []
  }
 ],
 "metadata": {
  "environment": {
   "name": "common-cu110.m78",
   "type": "gcloud",
   "uri": "gcr.io/deeplearning-platform-release/base-cu110:m78"
  },
  "kernelspec": {
   "display_name": "Python 3",
   "language": "python",
   "name": "python3"
  },
  "language_info": {
   "codemirror_mode": {
    "name": "ipython",
    "version": 3
   },
   "file_extension": ".py",
   "mimetype": "text/x-python",
   "name": "python",
   "nbconvert_exporter": "python",
   "pygments_lexer": "ipython3",
   "version": "3.7.10"
  }
 },
 "nbformat": 4,
 "nbformat_minor": 5
}
