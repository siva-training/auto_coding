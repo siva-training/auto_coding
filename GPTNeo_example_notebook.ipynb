{
  "nbformat": 4,
  "nbformat_minor": 0,
  "metadata": {
    "colab": {
      "name": "GPTNeo_example_notebook.ipynb",
      "provenance": [],
      "collapsed_sections": []
    },
    "kernelspec": {
      "name": "python3",
      "display_name": "Python 3"
    },
    "accelerator": "TPU"
  },
  "cells": [
    {
      "cell_type": "markdown",
      "metadata": {
        "id": "J0i5MRP0SV8D"
      },
      "source": [
        "Welcome to the colab notebook for [GPTNeo](https://github.com/EleutherAI/GPTNeo) - a fully open source implementation of GPT like models for mesh-tensorflow by [EleutherAI](eleuther.ai).\n",
        "\n",
        "Our library provides training and inference for GPT models up to GPT3 sizes on both TPUs and GPUs. \n",
        "\n",
        "In this notebook we walk you through TPU training (or finetuning!) and sampling using the freely available colab TPUs.\n",
        "\n",
        "If you find our repo useful, come join [our discord](https://discord.gg/BK2v3EJ) and say hi! 😬\n",
        "\n",
        "Before we get going - make sure you are running this notebook with a TPU available. Go to Runtime -> Change Runtime Type and select 'TPU' under hardware accelerator.\n",
        "\n",
        "\n"
      ]
    },
    {
      "cell_type": "code",
      "metadata": {
        "colab": {
          "base_uri": "https://localhost:8080/"
        },
        "id": "YXKZvKhQzzNg",
        "outputId": "fa0d0293-302f-4402-c67d-efbbdf5e817f"
      },
      "source": [
        "%%bash\n",
        "cd /content/GPTNeo\n",
        "rm -rf GPTNeo\n",
        "ls -l\n",
        "pretrained_model = None\n",
        "dataset = None"
      ],
      "execution_count": 10,
      "outputs": [
        {
          "output_type": "stream",
          "name": "stdout",
          "text": [
            "total 187804\n",
            "-rw-r--r-- 1 root root       751 Sep 11 10:43 CITATION.cff\n",
            "-rw-r--r-- 1 root root        23 Sep 11 10:43 CODEOWNERS\n",
            "drwxr-xr-x 3 root root      4096 Sep 11 11:55 configs\n",
            "-rw-r--r-- 1 root root      1776 Sep 11 10:43 configs.py\n",
            "drwxr-xr-x 3 root root      4096 Sep 11 11:15 data\n",
            "-rw-r--r-- 1 root root      1544 Sep 11 10:43 docker-compose.yml\n",
            "-rw-r--r-- 1 root root       455 Sep 11 10:43 Dockerfile\n",
            "-rw-r--r-- 1 root root       885 Sep 11 10:43 encoders.py\n",
            "-rw-r--r-- 1 root root       826 Sep 11 12:18 example_prompt.txt\n",
            "-rw-r--r-- 1 root root       501 Sep 11 10:43 export.py\n",
            "-rw-r--r-- 1 root root    118389 Sep 11 10:43 GPTNeo_example_notebook.ipynb\n",
            "-rw-r--r-- 1 root root     15608 Sep 11 10:43 inputs.py\n",
            "-rw-r--r-- 1 root root      1067 Sep 11 10:43 LICENSE\n",
            "drwxr-xr-x 2 root root      4096 Sep 11 11:15 logs\n",
            "-rw-r--r-- 1 root root     11270 Sep 11 10:43 main.py\n",
            "-rw-r--r-- 1 root root     14740 Sep 11 10:43 model_fns.py\n",
            "drwxr-xr-x 4 root root      4096 Sep 11 11:15 models\n",
            "-rw-r--r-- 1 root root      6633 Sep 11 10:43 optimizers.py\n",
            "drwxr-xr-x 2 root root      4096 Sep 11 11:15 __pycache__\n",
            "-rw-r--r-- 1 root root     22573 Sep 11 10:43 README.md\n",
            "-rw-r--r-- 1 root root       235 Sep 11 10:43 requirements.txt\n",
            "-rw-r--r-- 1 root root      9794 Sep 11 10:43 run_experiment.py\n",
            "-rw-r--r-- 1 root root      9324 Sep 11 10:43 sample.py\n",
            "-rw-r--r-- 1 root root      4007 Sep 11 10:43 tasks.py\n",
            "-rw-r--r-- 1 root root      5706 Sep 11 10:43 test_models.py\n",
            "drwxr-xr-x 3 root root      4096 Sep 11 10:53 the-eye.eu\n",
            "-rw-r--r-- 1 root root     10118 Sep 11 10:43 utils.py\n",
            "drwxr-xr-x 2 root root      4096 Sep 11 11:33 wikitext\n",
            "drwxrwx--- 2 root root      4096 Sep 11 11:33 wikitext-103-raw\n",
            "-rw-r--r-- 1 root root 191984949 Sep 27  2016 wikitext-103-raw-v1.zip\n",
            "drwxr-xr-x 2 root root      4096 Sep 11 11:33 wikitext_tokenized\n"
          ]
        },
        {
          "output_type": "stream",
          "name": "stderr",
          "text": [
            "bash: line 4: pretrained_model: command not found\n",
            "bash: line 5: dataset: command not found\n"
          ]
        }
      ]
    },
    {
      "cell_type": "code",
      "metadata": {
        "id": "K-53qkZV6Lv9",
        "colab": {
          "base_uri": "https://localhost:8080/"
        },
        "outputId": "e3100e57-d977-4730-efb5-f694e87c4f76"
      },
      "source": [
        "#@title Setup\n",
        "%tensorflow_version 2.x\n",
        "!git clone https://github.com/EleutherAI/GPTNeo\n",
        "%cd GPTNeo\n",
        "!pip3 install -q -r requirements.txt\n",
        "pretrained_model = None\n",
        "dataset = None\n"
      ],
      "execution_count": 31,
      "outputs": [
        {
          "output_type": "stream",
          "name": "stdout",
          "text": [
            "Cloning into 'GPTNeo'...\n",
            "remote: Enumerating objects: 3835, done.\u001b[K\n",
            "remote: Counting objects: 100% (226/226), done.\u001b[K\n",
            "remote: Compressing objects: 100% (146/146), done.\u001b[K\n",
            "remote: Total 3835 (delta 126), reused 144 (delta 79), pack-reused 3609\u001b[K\n",
            "Receiving objects: 100% (3835/3835), 1.47 MiB | 10.45 MiB/s, done.\n",
            "Resolving deltas: 100% (2216/2216), done.\n",
            "/content/GPTNeo/GPTNeo\n",
            "\u001b[31mERROR: Operation cancelled by user\u001b[0m\n"
          ]
        }
      ]
    },
    {
      "cell_type": "markdown",
      "metadata": {
        "id": "M0R1owh2qvp8"
      },
      "source": [
        "## Set Up Google Cloud"
      ]
    },
    {
      "cell_type": "markdown",
      "metadata": {
        "id": "0PmzM4dy7diP"
      },
      "source": [
        "To train on TPUs we need to store our data on a google cloud bucket - as TPUs can't read from local filesystems.\n",
        "\n",
        "You can set up a bucket by signing up for a free trial here: https://console.cloud.google.com/\n",
        "\n",
        "Make a bucket at https://console.cloud.google.com/storage and come back when that's done.\n",
        "\n",
        "Make sure to select 'Uniform' access control when setting up the bucket, or the colab notebook won't have the required permissions to read from it.\n",
        "\n",
        "The next cell sets up google authentication and gives the notebook read and write access to your bucket.\n"
      ]
    },
    {
      "cell_type": "markdown",
      "metadata": {
        "id": "cpvy-Kp5d_QT"
      },
      "source": [
        "https://github.com/google-research/text-to-text-transfer-transformer/issues/318"
      ]
    },
    {
      "cell_type": "code",
      "metadata": {
        "colab": {
          "base_uri": "https://localhost:8080/"
        },
        "id": "Mu4Z6HFrd7HG",
        "outputId": "65ddfc21-6a39-4c93-f306-2dafe6d44183"
      },
      "source": [
        "!pip install -q t5 tensorflow-text==2.2"
      ],
      "execution_count": 4,
      "outputs": [
        {
          "output_type": "stream",
          "name": "stdout",
          "text": [
            "\u001b[K     |████████████████████████████████| 152 kB 5.3 MB/s \n",
            "\u001b[K     |████████████████████████████████| 3.0 MB 46.1 MB/s \n",
            "\u001b[K     |████████████████████████████████| 516.4 MB 13 kB/s \n",
            "\u001b[K     |████████████████████████████████| 20.1 MB 1.2 MB/s \n",
            "\u001b[K     |████████████████████████████████| 3.0 MB 42.3 MB/s \n",
            "\u001b[K     |████████████████████████████████| 2.9 MB 41.9 MB/s \n",
            "\u001b[K     |████████████████████████████████| 454 kB 56.8 MB/s \n",
            "\u001b[K     |████████████████████████████████| 4.0 MB 40.7 MB/s \n",
            "\u001b[K     |████████████████████████████████| 269 kB 57.2 MB/s \n",
            "\u001b[K     |████████████████████████████████| 1.2 MB 45.9 MB/s \n",
            "\u001b[K     |████████████████████████████████| 90 kB 9.5 MB/s \n",
            "\u001b[31mERROR: pip's dependency resolver does not currently take into account all the packages that are installed. This behaviour is the source of the following dependency conflicts.\n",
            "datascience 0.10.6 requires folium==0.2.1, but you have folium 0.8.3 which is incompatible.\n",
            "albumentations 0.1.12 requires imgaug<0.2.7,>=0.2.5, but you have imgaug 0.2.9 which is incompatible.\u001b[0m\n",
            "\u001b[?25h"
          ]
        }
      ]
    },
    {
      "cell_type": "markdown",
      "metadata": {
        "id": "9hiutYEAd8X2"
      },
      "source": [
        ""
      ]
    },
    {
      "cell_type": "code",
      "metadata": {
        "id": "71bQUjPA7qvj",
        "colab": {
          "base_uri": "https://localhost:8080/"
        },
        "outputId": "488ae390-3faa-4001-f8a7-975f77c4e031"
      },
      "source": [
        "from google.colab import auth\n",
        "auth.authenticate_user()\n",
        "!gcloud init"
      ],
      "execution_count": 5,
      "outputs": [
        {
          "output_type": "stream",
          "name": "stdout",
          "text": [
            "Welcome! This command will take you through the configuration of gcloud.\n",
            "\n",
            "Settings from your current configuration [default] are:\n",
            "component_manager:\n",
            "  disable_update_check: 'True'\n",
            "compute:\n",
            "  gce_metadata_read_timeout_sec: '0'\n",
            "core:\n",
            "  account: sivasubramanian.v@prodapt.com\n",
            "\n",
            "Pick configuration to use:\n",
            " [1] Re-initialize this configuration [default] with new settings \n",
            " [2] Create a new configuration\n",
            "Please enter your numeric choice:  1\n",
            "\n",
            "Your current configuration has been set to: [default]\n",
            "\n",
            "You can skip diagnostics next time by using the following flag:\n",
            "  gcloud init --skip-diagnostics\n",
            "\n",
            "Network diagnostic detects and fixes local network connection issues.\n",
            "Reachability Check passed.\n",
            "Network diagnostic passed (1/1 checks passed).\n",
            "\n",
            "Choose the account you would like to use to perform operations for \n",
            "this configuration:\n",
            " [1] sivasubramanian.v@prodapt.com\n",
            " [2] Log in with a new account\n",
            "Please enter your numeric choice:  1\n",
            "\n",
            "You are logged in as: [sivasubramanian.v@prodapt.com].\n",
            "\n",
            "Pick cloud project to use: \n",
            " [1] cloud-practice-dev\n",
            " [2] cloud-practice-dev-2\n",
            " [3] Create a new project\n",
            "Please enter numeric choice or text value (must exactly match list \n",
            "item):  2\n",
            "\n",
            "Your current project has been set to: [cloud-practice-dev-2].\n",
            "\n",
            "Do you want to configure a default Compute Region and Zone? (Y/n)?  n\n",
            "\n",
            "Your Google Cloud SDK is configured and ready to use!\n",
            "\n",
            "* Commands that require authentication will use sivasubramanian.v@prodapt.com by default\n",
            "* Commands will reference project `cloud-practice-dev-2` by default\n",
            "Run `gcloud help config` to learn how to change individual settings\n",
            "\n",
            "This gcloud configuration is called [default]. You can create additional configurations if you work with multiple accounts and/or projects.\n",
            "Run `gcloud topic configurations` to learn more.\n",
            "\n",
            "Some things to try next:\n",
            "\n",
            "* Run `gcloud --help` to see the Cloud Platform services you can interact with. And run `gcloud help COMMAND` to get help on any gcloud command.\n",
            "* Run `gcloud topic --help` to learn about advanced features of the SDK like arg files and output formatting\n"
          ]
        }
      ]
    },
    {
      "cell_type": "code",
      "metadata": {
        "id": "Cr_c6A2NBK5i"
      },
      "source": [
        "path_to_cloud_bucket = 'gs://terraformgenerator/ml/GPTNeo' #@param {type:\"string\"}"
      ],
      "execution_count": 6,
      "outputs": []
    },
    {
      "cell_type": "markdown",
      "metadata": {
        "id": "EZGbzUPD0tad"
      },
      "source": [
        "## Set Up Dataset"
      ]
    },
    {
      "cell_type": "markdown",
      "metadata": {
        "id": "R918l14UhrBR"
      },
      "source": [
        "We first need to download and tokenize a dataset. If you just want to sample from a pretrained model, you can skip this step and move on to the `Pretrained Model` section.\n",
        "\n",
        "You can choose from:\n",
        "\n",
        "*   Sampling Only - choose this option if you only wish to sample from our trained models, then move on to the `Pretrained Model` section.\n",
        "\n",
        "*   OpenWebText - an opensource clone of OpenAI's WebText dataset, the original training data of GPT2.\n",
        "\n",
        "*   YoutubeSubtitles - a dataset of subtitles scraped from youtube videos.\n",
        "\n",
        "* Hackernews - comments scraped from hackernews\n",
        "\n",
        "* NIHExporter - Data relating to various projects from the national institute of health.\n",
        "\n",
        "* Custom - if this option is chosen you will be prompted to enter the path to your own dataset. It should be a directory containing .txt or .jsonl files.\n",
        "\n",
        "All these datasets are from EleutherAI's side project - [The Pile™](https://github.com/EleutherAI/The-Pile) - an effort to gather a general purpose, diverse and open source plain text dataset large enough to train 1T+ parameter language models.\n",
        "\n",
        "Even the smallest datasets are fairly large files, so this step will likely take a while. Select a dataset in the next cell, then run the next two cells, and go grab a snack and a cup of tea 😊\n",
        "\n",
        "Alternatively, you can provide your own dataset in the form of a folder or gzip archive of .txt files. Simply select 'Custom' below and follow input the path to your data and the name of your dataset when prompted."
      ]
    },
    {
      "cell_type": "code",
      "metadata": {
        "id": "pM8jP3Am_hsx"
      },
      "source": [
        "# Select a Dataset:\n",
        "import os\n",
        "dataset = 'Sampling_Only' #@param [\"Sampling_Only\", \"OpenWebText\", \"YoutubeSubtitles\", \"HackerNews\", \"NIHExporter\", \"Custom\"]\n",
        "\n",
        "if dataset == \"Sampling_Only\":\n",
        "  pass\n",
        "elif dataset == 'OpenWebText':\n",
        "  !wget https://the-eye.eu/public/AI/pile_preliminary_components/openwebtext2.jsonl.zst.tar -O openwebtext.tar.xz\n",
        "  !tar xf openwebtext.tar.xz\n",
        "  dataset_path = \"openwebtext\"\n",
        "  dataset_name = dataset_path\n",
        "  out_name = dataset_name + \"_tokenized\"\n",
        "elif dataset == 'YoutubeSubtitles':\n",
        "  os.makedirs('data', exist_ok=True)\n",
        "  !wget https://the-eye.eu/public/AI/pile_preliminary_components/yt_subs.jsonl.zst -O data/yt_subs.jsonl.zst\n",
        "  dataset_path = 'data'\n",
        "  dataset_name = 'ytsubs'\n",
        "  out_name = dataset_name + \"_tokenized\"\n",
        "elif dataset == 'HackerNews':\n",
        "  os.makedirs('data', exist_ok=True)\n",
        "  !wget https://the-eye.eu/public/AI/pile_preliminary_components/hn.tar.gz -O data/hn.tar.gz\n",
        "  dataset_path = 'data'\n",
        "  dataset_name = 'hackernews'\n",
        "  out_name = dataset_name + \"_tokenized\"\n",
        "elif dataset == \"NIHExporter\":\n",
        "  os.makedirs('data', exist_ok=True)\n",
        "  !wget https://the-eye.eu/public/AI/pile_preliminary_components/NIH_ExPORTER_awarded_grant_text.jsonl.zst -O data/NIH_ExPORTER_awarded_grant_text.jsonl.zst\n",
        "  dataset_path = 'data'\n",
        "  os.system('mv NIH_ExPORTER_awarded_grant_text.jsonl.zst ./data')\n",
        "  dataset_name = 'nihexporter'\n",
        "  out_name = dataset_name + \"_tokenized\"\n",
        "elif dataset == \"Custom\":\n",
        "  dataset_path = input('Enter the path to the folder containing your data: ')\n",
        "  dataset_name = input('Enter the name of your dataset: ')\n",
        "  out_name = dataset_name + \"_tokenized\"\n",
        "else:\n",
        "  raise NotImplementedError('please select from available options: [\"OpenWebText\", \"YoutubeSubtitles\", \"HackerNews\", \"NIHExporter\", \"Custom\"]')\n"
      ],
      "execution_count": 11,
      "outputs": []
    },
    {
      "cell_type": "code",
      "metadata": {
        "colab": {
          "base_uri": "https://localhost:8080/"
        },
        "id": "_DuLsH2g0eeL",
        "outputId": "d6d84deb-f2c7-47a9-95a3-e184c2d6f297"
      },
      "source": [
        "%%bash\n",
        "echo $dataset\n",
        "cd GPTNeo\n",
        "pwd"
      ],
      "execution_count": 19,
      "outputs": [
        {
          "output_type": "stream",
          "name": "stdout",
          "text": [
            "\n",
            "/content/GPTNeo\n"
          ]
        }
      ]
    },
    {
      "cell_type": "markdown",
      "metadata": {
        "id": "zMl1cHtN5I_W"
      },
      "source": [
        "### Tokenize and Upload Data"
      ]
    },
    {
      "cell_type": "markdown",
      "metadata": {
        "id": "6IBIompTJaqm"
      },
      "source": [
        "Now tokenize the dataset and copy it over to your google cloud bucket. You may skip this step if you are sampling from a pre-trained model."
      ]
    },
    {
      "cell_type": "code",
      "metadata": {
        "id": "Pq5u0WUSJWwz",
        "cellView": "both",
        "colab": {
          "base_uri": "https://localhost:8080/",
          "height": 273
        },
        "outputId": "66fd693a-b91b-4b00-a015-31bfeb74fd65"
      },
      "source": [
        "!cd GPTNeo\n",
        "!pwd\n",
        "# Tokenize Data\n",
        "!python data/create_tfrecords.py --input_dir /content/GPTNeo/$dataset_path --name $dataset_name --files_per 1000 --output_dir $out_name --write_dataset_config --processes 1\n",
        "\n",
        "# copy the data to your bucket\n",
        "if not path_to_cloud_bucket.endswith('/'):\n",
        "  path_to_cloud_bucket += '/'\n",
        "copy_loc = path_to_cloud_bucket + \"datasets/\" + dataset\n",
        "!gsutil -m cp -r /content/GPTNeo/$out_name $copy_loc\n",
        "!gsutil ls $path_to_cloud_bucket"
      ],
      "execution_count": 23,
      "outputs": [
        {
          "output_type": "stream",
          "name": "stdout",
          "text": [
            "/content\n",
            "python3: can't open file 'data/create_tfrecords.py': [Errno 2] No such file or directory\n"
          ]
        },
        {
          "output_type": "error",
          "ename": "NameError",
          "evalue": "ignored",
          "traceback": [
            "\u001b[0;31m---------------------------------------------------------------------------\u001b[0m",
            "\u001b[0;31mNameError\u001b[0m                                 Traceback (most recent call last)",
            "\u001b[0;32m<ipython-input-23-d74647c5e0fd>\u001b[0m in \u001b[0;36m<module>\u001b[0;34m()\u001b[0m\n\u001b[1;32m      5\u001b[0m \u001b[0;34m\u001b[0m\u001b[0m\n\u001b[1;32m      6\u001b[0m \u001b[0;31m# copy the data to your bucket\u001b[0m\u001b[0;34m\u001b[0m\u001b[0;34m\u001b[0m\u001b[0;34m\u001b[0m\u001b[0m\n\u001b[0;32m----> 7\u001b[0;31m \u001b[0;32mif\u001b[0m \u001b[0;32mnot\u001b[0m \u001b[0mpath_to_cloud_bucket\u001b[0m\u001b[0;34m.\u001b[0m\u001b[0mendswith\u001b[0m\u001b[0;34m(\u001b[0m\u001b[0;34m'/'\u001b[0m\u001b[0;34m)\u001b[0m\u001b[0;34m:\u001b[0m\u001b[0;34m\u001b[0m\u001b[0;34m\u001b[0m\u001b[0m\n\u001b[0m\u001b[1;32m      8\u001b[0m   \u001b[0mpath_to_cloud_bucket\u001b[0m \u001b[0;34m+=\u001b[0m \u001b[0;34m'/'\u001b[0m\u001b[0;34m\u001b[0m\u001b[0;34m\u001b[0m\u001b[0m\n\u001b[1;32m      9\u001b[0m \u001b[0mcopy_loc\u001b[0m \u001b[0;34m=\u001b[0m \u001b[0mpath_to_cloud_bucket\u001b[0m \u001b[0;34m+\u001b[0m \u001b[0;34m\"datasets/\"\u001b[0m \u001b[0;34m+\u001b[0m \u001b[0mdataset\u001b[0m\u001b[0;34m\u001b[0m\u001b[0;34m\u001b[0m\u001b[0m\n",
            "\u001b[0;31mNameError\u001b[0m: name 'path_to_cloud_bucket' is not defined"
          ]
        }
      ]
    },
    {
      "cell_type": "markdown",
      "metadata": {
        "id": "NhvmTFD7b_fb"
      },
      "source": [
        "Before starting training - you'll need to edit your dataset & model configs to point to your buckets / data. You need to do this even if you are sampling from a pre-trained model.\n",
        "\n",
        "*   First change the writefile path to point to your chosen dataset - e.g `%%writefile configs/dataset_configs/ytsubs.json`\n",
        "*   Change the \"path\" field to point to your cloud bucket location - e.g `gs://neo_lmdatasets/datasets/ytsubs_*.tfrecords`\n",
        "* Change `dataset_name` in `%%writefile configs/dataset_configs/dataset_name.json` to the name of your chosen dataset.\n",
        "* Once you've made the edits, then run the cell below to overwrite the existing files.\n",
        "\n",
        "\n"
      ]
    },
    {
      "cell_type": "code",
      "metadata": {
        "id": "MCsZP48vavCP",
        "colab": {
          "base_uri": "https://localhost:8080/",
          "height": 385
        },
        "outputId": "501ec1a1-d0da-4ad4-e0df-e042f8d3221a"
      },
      "source": [
        "%%writefile configs/dataset_configs/Sampling_Only.json\n",
        "\n",
        "{\n",
        "  \"path\": \"gs://eleutherai/datasets/Sampling_Only/Sampling_Only*.tfrecords\",\n",
        "  \"eval_path\": \"\",\n",
        "  \"n_vocab\": 50256,\n",
        "  \"tokenizer_is_pretrained\": true,\n",
        "  \"tokenizer_path\": \"gpt2\",\n",
        "  \"eos_id\": 50256,\n",
        "  \"padding_id\": 50257\n",
        "}\n"
      ],
      "execution_count": 18,
      "outputs": [
        {
          "output_type": "stream",
          "name": "stdout",
          "text": [
            "Writing configs/dataset_configs/Sampling_Only.json\n"
          ]
        },
        {
          "output_type": "error",
          "ename": "FileNotFoundError",
          "evalue": "ignored",
          "traceback": [
            "\u001b[0;31m---------------------------------------------------------------------------\u001b[0m",
            "\u001b[0;31mFileNotFoundError\u001b[0m                         Traceback (most recent call last)",
            "\u001b[0;32m<ipython-input-18-78cf282c67f8>\u001b[0m in \u001b[0;36m<module>\u001b[0;34m()\u001b[0m\n\u001b[0;32m----> 1\u001b[0;31m \u001b[0mget_ipython\u001b[0m\u001b[0;34m(\u001b[0m\u001b[0;34m)\u001b[0m\u001b[0;34m.\u001b[0m\u001b[0mrun_cell_magic\u001b[0m\u001b[0;34m(\u001b[0m\u001b[0;34m'writefile'\u001b[0m\u001b[0;34m,\u001b[0m \u001b[0;34m'configs/dataset_configs/Sampling_Only.json'\u001b[0m\u001b[0;34m,\u001b[0m \u001b[0;34m'\\n{\\n  \"path\": \"gs://eleutherai/datasets/Sampling_Only/Sampling_Only*.tfrecords\",\\n  \"eval_path\": \"\",\\n  \"n_vocab\": 50256,\\n  \"tokenizer_is_pretrained\": true,\\n  \"tokenizer_path\": \"gpt2\",\\n  \"eos_id\": 50256,\\n  \"padding_id\": 50257\\n}'\u001b[0m\u001b[0;34m)\u001b[0m\u001b[0;34m\u001b[0m\u001b[0;34m\u001b[0m\u001b[0m\n\u001b[0m",
            "\u001b[0;32m/usr/local/lib/python3.7/dist-packages/IPython/core/interactiveshell.py\u001b[0m in \u001b[0;36mrun_cell_magic\u001b[0;34m(self, magic_name, line, cell)\u001b[0m\n\u001b[1;32m   2115\u001b[0m             \u001b[0mmagic_arg_s\u001b[0m \u001b[0;34m=\u001b[0m \u001b[0mself\u001b[0m\u001b[0;34m.\u001b[0m\u001b[0mvar_expand\u001b[0m\u001b[0;34m(\u001b[0m\u001b[0mline\u001b[0m\u001b[0;34m,\u001b[0m \u001b[0mstack_depth\u001b[0m\u001b[0;34m)\u001b[0m\u001b[0;34m\u001b[0m\u001b[0;34m\u001b[0m\u001b[0m\n\u001b[1;32m   2116\u001b[0m             \u001b[0;32mwith\u001b[0m \u001b[0mself\u001b[0m\u001b[0;34m.\u001b[0m\u001b[0mbuiltin_trap\u001b[0m\u001b[0;34m:\u001b[0m\u001b[0;34m\u001b[0m\u001b[0;34m\u001b[0m\u001b[0m\n\u001b[0;32m-> 2117\u001b[0;31m                 \u001b[0mresult\u001b[0m \u001b[0;34m=\u001b[0m \u001b[0mfn\u001b[0m\u001b[0;34m(\u001b[0m\u001b[0mmagic_arg_s\u001b[0m\u001b[0;34m,\u001b[0m \u001b[0mcell\u001b[0m\u001b[0;34m)\u001b[0m\u001b[0;34m\u001b[0m\u001b[0;34m\u001b[0m\u001b[0m\n\u001b[0m\u001b[1;32m   2118\u001b[0m             \u001b[0;32mreturn\u001b[0m \u001b[0mresult\u001b[0m\u001b[0;34m\u001b[0m\u001b[0;34m\u001b[0m\u001b[0m\n\u001b[1;32m   2119\u001b[0m \u001b[0;34m\u001b[0m\u001b[0m\n",
            "\u001b[0;32m<decorator-gen-97>\u001b[0m in \u001b[0;36mwritefile\u001b[0;34m(self, line, cell)\u001b[0m\n",
            "\u001b[0;32m/usr/local/lib/python3.7/dist-packages/IPython/core/magic.py\u001b[0m in \u001b[0;36m<lambda>\u001b[0;34m(f, *a, **k)\u001b[0m\n\u001b[1;32m    186\u001b[0m     \u001b[0;31m# but it's overkill for just that one bit of state.\u001b[0m\u001b[0;34m\u001b[0m\u001b[0;34m\u001b[0m\u001b[0;34m\u001b[0m\u001b[0m\n\u001b[1;32m    187\u001b[0m     \u001b[0;32mdef\u001b[0m \u001b[0mmagic_deco\u001b[0m\u001b[0;34m(\u001b[0m\u001b[0marg\u001b[0m\u001b[0;34m)\u001b[0m\u001b[0;34m:\u001b[0m\u001b[0;34m\u001b[0m\u001b[0;34m\u001b[0m\u001b[0m\n\u001b[0;32m--> 188\u001b[0;31m         \u001b[0mcall\u001b[0m \u001b[0;34m=\u001b[0m \u001b[0;32mlambda\u001b[0m \u001b[0mf\u001b[0m\u001b[0;34m,\u001b[0m \u001b[0;34m*\u001b[0m\u001b[0ma\u001b[0m\u001b[0;34m,\u001b[0m \u001b[0;34m**\u001b[0m\u001b[0mk\u001b[0m\u001b[0;34m:\u001b[0m \u001b[0mf\u001b[0m\u001b[0;34m(\u001b[0m\u001b[0;34m*\u001b[0m\u001b[0ma\u001b[0m\u001b[0;34m,\u001b[0m \u001b[0;34m**\u001b[0m\u001b[0mk\u001b[0m\u001b[0;34m)\u001b[0m\u001b[0;34m\u001b[0m\u001b[0;34m\u001b[0m\u001b[0m\n\u001b[0m\u001b[1;32m    189\u001b[0m \u001b[0;34m\u001b[0m\u001b[0m\n\u001b[1;32m    190\u001b[0m         \u001b[0;32mif\u001b[0m \u001b[0mcallable\u001b[0m\u001b[0;34m(\u001b[0m\u001b[0marg\u001b[0m\u001b[0;34m)\u001b[0m\u001b[0;34m:\u001b[0m\u001b[0;34m\u001b[0m\u001b[0;34m\u001b[0m\u001b[0m\n",
            "\u001b[0;32m/usr/local/lib/python3.7/dist-packages/IPython/core/magics/osm.py\u001b[0m in \u001b[0;36mwritefile\u001b[0;34m(self, line, cell)\u001b[0m\n\u001b[1;32m    787\u001b[0m \u001b[0;34m\u001b[0m\u001b[0m\n\u001b[1;32m    788\u001b[0m         \u001b[0mmode\u001b[0m \u001b[0;34m=\u001b[0m \u001b[0;34m'a'\u001b[0m \u001b[0;32mif\u001b[0m \u001b[0margs\u001b[0m\u001b[0;34m.\u001b[0m\u001b[0mappend\u001b[0m \u001b[0;32melse\u001b[0m \u001b[0;34m'w'\u001b[0m\u001b[0;34m\u001b[0m\u001b[0;34m\u001b[0m\u001b[0m\n\u001b[0;32m--> 789\u001b[0;31m         \u001b[0;32mwith\u001b[0m \u001b[0mio\u001b[0m\u001b[0;34m.\u001b[0m\u001b[0mopen\u001b[0m\u001b[0;34m(\u001b[0m\u001b[0mfilename\u001b[0m\u001b[0;34m,\u001b[0m \u001b[0mmode\u001b[0m\u001b[0;34m,\u001b[0m \u001b[0mencoding\u001b[0m\u001b[0;34m=\u001b[0m\u001b[0;34m'utf-8'\u001b[0m\u001b[0;34m)\u001b[0m \u001b[0;32mas\u001b[0m \u001b[0mf\u001b[0m\u001b[0;34m:\u001b[0m\u001b[0;34m\u001b[0m\u001b[0;34m\u001b[0m\u001b[0m\n\u001b[0m\u001b[1;32m    790\u001b[0m             \u001b[0mf\u001b[0m\u001b[0;34m.\u001b[0m\u001b[0mwrite\u001b[0m\u001b[0;34m(\u001b[0m\u001b[0mcell\u001b[0m\u001b[0;34m)\u001b[0m\u001b[0;34m\u001b[0m\u001b[0;34m\u001b[0m\u001b[0m\n",
            "\u001b[0;31mFileNotFoundError\u001b[0m: [Errno 2] No such file or directory: 'configs/dataset_configs/Sampling_Only.json'"
          ]
        }
      ]
    },
    {
      "cell_type": "markdown",
      "metadata": {
        "id": "dH0x3dI9j85P"
      },
      "source": [
        "## Set Model Configs"
      ]
    },
    {
      "cell_type": "markdown",
      "metadata": {
        "id": "I6GnCgAkB7GQ"
      },
      "source": [
        "The model below is identical to our pretrained GPT3XL model (1.3B Params). \n",
        "\n",
        "If you want to use a smaller model, you can modify any of the config files in ../configs/ ending in _8.json, all of which are designed to train on tpu-v8s.\n",
        "\n",
        "For a more detailed breakdown on what each item in the configuration file means - please read through our training and config guides in our [github README](https://github.com/EleutherAI/GPTNeo#training-guide). \n",
        "\n",
        "You'll want to change the first item in the `datasets` list to the name of your chosen dataset. (the filename minus .json in ./configs/dataset_configs)\n",
        "\n",
        "You'll also want to modify the `model_path` field to point to your google cloud bucket, so checkpoints get saved to there."
      ]
    },
    {
      "cell_type": "code",
      "metadata": {
        "id": "L9hUDdokiWj6",
        "colab": {
          "base_uri": "https://localhost:8080/",
          "height": 508
        },
        "outputId": "42b212f6-3010-4518-f18d-d4eff9a32371"
      },
      "source": [
        "%%writefile configs/GPT3_XL.json\n",
        "\n",
        "{\n",
        "    \"n_head\": 16,\n",
        "    \"n_vocab\": 50257,\n",
        "    \"embed_dropout\": 0,\n",
        "    \"lr\": 0.0002,\n",
        "    \"lr_decay\": \"cosine\",\n",
        "    \"warmup_steps\": 3000,\n",
        "    \"beta1\": 0.9,\n",
        "    \"beta2\": 0.95,\n",
        "    \"epsilon\": 1e-8,\n",
        "    \"opt_name\": \"adam\",\n",
        "    \"weight_decay\": 0,\n",
        "    \"train_batch_size\": 256,\n",
        "    \"attn_dropout\": 0,\n",
        "    \"train_steps\": 600000,\n",
        "    \"eval_steps\": 0,\n",
        "    \"predict_steps\": 1,\n",
        "    \"res_dropout\": 0,\n",
        "    \"eval_batch_size\": 4,\n",
        "    \"predict_batch_size\": 1,\n",
        "    \"iterations\": 100,\n",
        "    \"n_embd\": 2048,\n",
        "    \"datasets\": [[\"pile\", null, null, null]],\n",
        "    \"model\": \"GPT\",\n",
        "    \"model_path\": \"gs://eleutherai/GPT3_XL\",\n",
        "    \"n_ctx\": 2048,\n",
        "    \"n_layer\": 24,\n",
        "    \"scale_by_depth\": true,\n",
        "    \"scale_by_in\": false,\n",
        "    \"attention_types\" :  [[[\"global\", \"local\"],12]],\n",
        "    \"mesh_shape\": \"x:4,y:2\",\n",
        "    \"layout\": \"intermediate_expanded:x,heads:x,vocab:n_vocab,memory_length:y,embd:y\",\n",
        "    \"activation_function\": \"gelu\",\n",
        "    \"recompute_grad\": true,\n",
        "    \"gradient_clipping\": 1.0,\n",
        "    \"tokens_per_mb_per_replica\": 2048,\n",
        "    \"precision\": \"bfloat16\"\n",
        "}"
      ],
      "execution_count": 14,
      "outputs": [
        {
          "output_type": "stream",
          "name": "stdout",
          "text": [
            "Writing configs/GPT3_XL.json\n"
          ]
        },
        {
          "output_type": "error",
          "ename": "FileNotFoundError",
          "evalue": "ignored",
          "traceback": [
            "\u001b[0;31m---------------------------------------------------------------------------\u001b[0m",
            "\u001b[0;31mFileNotFoundError\u001b[0m                         Traceback (most recent call last)",
            "\u001b[0;32m<ipython-input-14-6fb6e82fa9cf>\u001b[0m in \u001b[0;36m<module>\u001b[0;34m()\u001b[0m\n\u001b[0;32m----> 1\u001b[0;31m \u001b[0mget_ipython\u001b[0m\u001b[0;34m(\u001b[0m\u001b[0;34m)\u001b[0m\u001b[0;34m.\u001b[0m\u001b[0mrun_cell_magic\u001b[0m\u001b[0;34m(\u001b[0m\u001b[0;34m'writefile'\u001b[0m\u001b[0;34m,\u001b[0m \u001b[0;34m'configs/GPT3_XL.json'\u001b[0m\u001b[0;34m,\u001b[0m \u001b[0;34m'\\n{\\n    \"n_head\": 16,\\n    \"n_vocab\": 50257,\\n    \"embed_dropout\": 0,\\n    \"lr\": 0.0002,\\n    \"lr_decay\": \"cosine\",\\n    \"warmup_steps\": 3000,\\n    \"beta1\": 0.9,\\n    \"beta2\": 0.95,\\n    \"epsilon\": 1e-8,\\n    \"opt_name\": \"adam\",\\n    \"weight_decay\": 0,\\n    \"train_batch_size\": 256,\\n    \"attn_dropout\": 0,\\n    \"train_steps\": 600000,\\n    \"eval_steps\": 0,\\n    \"predict_steps\": 1,\\n    \"res_dropout\": 0,\\n    \"eval_batch_size\": 4,\\n    \"predict_batch_size\": 1,\\n    \"iterations\": 100,\\n    \"n_embd\": 2048,\\n    \"datasets\": [[\"pile\", null, null, null]],\\n    \"model\": \"GPT\",\\n    \"model_path\": \"gs://eleutherai/GPT3_XL\",\\n    \"n_ctx\": 2048,\\n    \"n_layer\": 24,\\n    \"scale_by_depth\": true,\\n    \"scale_by_in\": false,\\n    \"attention_types\" :  [[[\"global\", \"local\"],12]],\\n    \"mesh_shape\": \"x:4,y:2\",\\n    \"layout\": \"intermediate_expanded:x,heads:x,vocab:n_vocab,memory_length:y,embd:y\",\\n    \"activation_function\": \"gelu\",\\n    \"recompute_grad\": true,\\n    \"gradient_clipping\": 1.0,\\n    \"tokens_per_mb_per_replica\": 2048,\\n    \"precision\": \"bfloat16\"\\n}'\u001b[0m\u001b[0;34m)\u001b[0m\u001b[0;34m\u001b[0m\u001b[0;34m\u001b[0m\u001b[0m\n\u001b[0m",
            "\u001b[0;32m/usr/local/lib/python3.7/dist-packages/IPython/core/interactiveshell.py\u001b[0m in \u001b[0;36mrun_cell_magic\u001b[0;34m(self, magic_name, line, cell)\u001b[0m\n\u001b[1;32m   2115\u001b[0m             \u001b[0mmagic_arg_s\u001b[0m \u001b[0;34m=\u001b[0m \u001b[0mself\u001b[0m\u001b[0;34m.\u001b[0m\u001b[0mvar_expand\u001b[0m\u001b[0;34m(\u001b[0m\u001b[0mline\u001b[0m\u001b[0;34m,\u001b[0m \u001b[0mstack_depth\u001b[0m\u001b[0;34m)\u001b[0m\u001b[0;34m\u001b[0m\u001b[0;34m\u001b[0m\u001b[0m\n\u001b[1;32m   2116\u001b[0m             \u001b[0;32mwith\u001b[0m \u001b[0mself\u001b[0m\u001b[0;34m.\u001b[0m\u001b[0mbuiltin_trap\u001b[0m\u001b[0;34m:\u001b[0m\u001b[0;34m\u001b[0m\u001b[0;34m\u001b[0m\u001b[0m\n\u001b[0;32m-> 2117\u001b[0;31m                 \u001b[0mresult\u001b[0m \u001b[0;34m=\u001b[0m \u001b[0mfn\u001b[0m\u001b[0;34m(\u001b[0m\u001b[0mmagic_arg_s\u001b[0m\u001b[0;34m,\u001b[0m \u001b[0mcell\u001b[0m\u001b[0;34m)\u001b[0m\u001b[0;34m\u001b[0m\u001b[0;34m\u001b[0m\u001b[0m\n\u001b[0m\u001b[1;32m   2118\u001b[0m             \u001b[0;32mreturn\u001b[0m \u001b[0mresult\u001b[0m\u001b[0;34m\u001b[0m\u001b[0;34m\u001b[0m\u001b[0m\n\u001b[1;32m   2119\u001b[0m \u001b[0;34m\u001b[0m\u001b[0m\n",
            "\u001b[0;32m<decorator-gen-97>\u001b[0m in \u001b[0;36mwritefile\u001b[0;34m(self, line, cell)\u001b[0m\n",
            "\u001b[0;32m/usr/local/lib/python3.7/dist-packages/IPython/core/magic.py\u001b[0m in \u001b[0;36m<lambda>\u001b[0;34m(f, *a, **k)\u001b[0m\n\u001b[1;32m    186\u001b[0m     \u001b[0;31m# but it's overkill for just that one bit of state.\u001b[0m\u001b[0;34m\u001b[0m\u001b[0;34m\u001b[0m\u001b[0;34m\u001b[0m\u001b[0m\n\u001b[1;32m    187\u001b[0m     \u001b[0;32mdef\u001b[0m \u001b[0mmagic_deco\u001b[0m\u001b[0;34m(\u001b[0m\u001b[0marg\u001b[0m\u001b[0;34m)\u001b[0m\u001b[0;34m:\u001b[0m\u001b[0;34m\u001b[0m\u001b[0;34m\u001b[0m\u001b[0m\n\u001b[0;32m--> 188\u001b[0;31m         \u001b[0mcall\u001b[0m \u001b[0;34m=\u001b[0m \u001b[0;32mlambda\u001b[0m \u001b[0mf\u001b[0m\u001b[0;34m,\u001b[0m \u001b[0;34m*\u001b[0m\u001b[0ma\u001b[0m\u001b[0;34m,\u001b[0m \u001b[0;34m**\u001b[0m\u001b[0mk\u001b[0m\u001b[0;34m:\u001b[0m \u001b[0mf\u001b[0m\u001b[0;34m(\u001b[0m\u001b[0;34m*\u001b[0m\u001b[0ma\u001b[0m\u001b[0;34m,\u001b[0m \u001b[0;34m**\u001b[0m\u001b[0mk\u001b[0m\u001b[0;34m)\u001b[0m\u001b[0;34m\u001b[0m\u001b[0;34m\u001b[0m\u001b[0m\n\u001b[0m\u001b[1;32m    189\u001b[0m \u001b[0;34m\u001b[0m\u001b[0m\n\u001b[1;32m    190\u001b[0m         \u001b[0;32mif\u001b[0m \u001b[0mcallable\u001b[0m\u001b[0;34m(\u001b[0m\u001b[0marg\u001b[0m\u001b[0;34m)\u001b[0m\u001b[0;34m:\u001b[0m\u001b[0;34m\u001b[0m\u001b[0;34m\u001b[0m\u001b[0m\n",
            "\u001b[0;32m/usr/local/lib/python3.7/dist-packages/IPython/core/magics/osm.py\u001b[0m in \u001b[0;36mwritefile\u001b[0;34m(self, line, cell)\u001b[0m\n\u001b[1;32m    787\u001b[0m \u001b[0;34m\u001b[0m\u001b[0m\n\u001b[1;32m    788\u001b[0m         \u001b[0mmode\u001b[0m \u001b[0;34m=\u001b[0m \u001b[0;34m'a'\u001b[0m \u001b[0;32mif\u001b[0m \u001b[0margs\u001b[0m\u001b[0;34m.\u001b[0m\u001b[0mappend\u001b[0m \u001b[0;32melse\u001b[0m \u001b[0;34m'w'\u001b[0m\u001b[0;34m\u001b[0m\u001b[0;34m\u001b[0m\u001b[0m\n\u001b[0;32m--> 789\u001b[0;31m         \u001b[0;32mwith\u001b[0m \u001b[0mio\u001b[0m\u001b[0;34m.\u001b[0m\u001b[0mopen\u001b[0m\u001b[0;34m(\u001b[0m\u001b[0mfilename\u001b[0m\u001b[0;34m,\u001b[0m \u001b[0mmode\u001b[0m\u001b[0;34m,\u001b[0m \u001b[0mencoding\u001b[0m\u001b[0;34m=\u001b[0m\u001b[0;34m'utf-8'\u001b[0m\u001b[0;34m)\u001b[0m \u001b[0;32mas\u001b[0m \u001b[0mf\u001b[0m\u001b[0;34m:\u001b[0m\u001b[0;34m\u001b[0m\u001b[0;34m\u001b[0m\u001b[0m\n\u001b[0m\u001b[1;32m    790\u001b[0m             \u001b[0mf\u001b[0m\u001b[0;34m.\u001b[0m\u001b[0mwrite\u001b[0m\u001b[0;34m(\u001b[0m\u001b[0mcell\u001b[0m\u001b[0;34m)\u001b[0m\u001b[0;34m\u001b[0m\u001b[0;34m\u001b[0m\u001b[0m\n",
            "\u001b[0;31mFileNotFoundError\u001b[0m: [Errno 2] No such file or directory: 'configs/GPT3_XL.json'"
          ]
        }
      ]
    },
    {
      "cell_type": "markdown",
      "metadata": {
        "id": "GWK9MJqwcXKn"
      },
      "source": [
        "## Training from Scratch\n",
        "\n",
        "Now we will begin to train the model. If no previous model is found in \"model_path\", the model will start training from scratch. If you'd prefer to finetune from pretrained, skip to the `Finetune a Pretrained Model` section.\n",
        "\n",
        "If everything's set up correctly, you can now run the main.py function to start training!"
      ]
    },
    {
      "cell_type": "code",
      "metadata": {
        "id": "VUtrysOSBzjJ"
      },
      "source": [
        "!python3 main.py --model colab_XL --steps_per_checkpoint 500 --tpu colab"
      ],
      "execution_count": null,
      "outputs": []
    },
    {
      "cell_type": "markdown",
      "metadata": {
        "id": "koKQHA5ikCvD"
      },
      "source": [
        "## Pretrained Model"
      ]
    },
    {
      "cell_type": "markdown",
      "metadata": {
        "id": "0QZv4_pnkk26"
      },
      "source": [
        "If you want to sample from or finetune a pretrained model, EleutherAI has pretrained two models for release. One with [1.3B parameters](https://the-eye.eu/public/AI/gptneo-release/GPT3_XL/), and another with [2.7B](https://the-eye.eu/public/AI/gptneo-release/GPT3_2-7B/). \n",
        "\n",
        "Select an option below to download the weights locally. You will then need to upload them to your cloud bucket in order to finetune from them. If the download command isn't working, try the commented out code to download from a different source.\n",
        "\n",
        "The 2-7B model likely won't fit into the colab TPUs memory, and you may have to get some larger pods to finetune from it.\n",
        "\n",
        "Sampling from it, however, works just fine.\n"
      ]
    },
    {
      "cell_type": "code",
      "metadata": {
        "id": "lgTG1ammqGB0",
        "colab": {
          "base_uri": "https://localhost:8080/"
        },
        "outputId": "003b469b-8388-4fdf-ed16-482d8edd7074"
      },
      "source": [
        "# @title Download pretrained model weights:\n",
        "pretrained_model = 'GPT3_2-7B' #@param [\"GPT3_XL\", \"GPT3_2-7B\"]\n",
        "!wget -m -np -c -U \"eye02\" -w 2 -R \"index.html*\" \"https://the-eye.eu/public/AI/gptneo-release/$pretrained_model/\"\n",
        "path_to_local_weights = f\"/content/GPTNeo/the-eye.eu/public/AI/gptneo-release/{pretrained_model}\"\n",
        "\n",
        "# URL = f\"http://eaidata.bmk.sh/data/gptneo-release/{pretrained_model}/\"\n",
        "# FOLDER_NAME = \"GPT3_XL\"\n",
        "# !curl $URL | grep -i \"</a>\" | sed -n 's/.*href=\"\\([^\"]*\\).*/\\1/p' | sed \"s|^|$URL|\" | xargs -n 1 -P 4 wget -P $pretrained_model\n",
        "# path_to_local_weights = pretrained_model\n"
      ],
      "execution_count": 7,
      "outputs": [
        {
          "output_type": "stream",
          "name": "stdout",
          "text": [
            "--2021-09-11 10:53:03--  https://the-eye.eu/public/AI/gptneo-release/GPT3_2-7B/\n",
            "Resolving the-eye.eu (the-eye.eu)... 162.213.130.242\n",
            "Connecting to the-eye.eu (the-eye.eu)|162.213.130.242|:443... connected.\n",
            "HTTP request sent, awaiting response... 200 OK\n",
            "Length: unspecified [text/html]\n",
            "Saving to: ‘the-eye.eu/public/AI/gptneo-release/GPT3_2-7B/index.html.tmp’\n",
            "\n",
            "the-eye.eu/public/A     [ <=>                ]  14.37K  --.-KB/s    in 0.03s   \n",
            "\n",
            "Last-modified header missing -- time-stamps turned off.\n",
            "2021-09-11 10:53:03 (446 KB/s) - ‘the-eye.eu/public/AI/gptneo-release/GPT3_2-7B/index.html.tmp’ saved [14718]\n",
            "\n",
            "Loading robots.txt; please ignore errors.\n",
            "--2021-09-11 10:53:05--  https://the-eye.eu/robots.txt\n",
            "Reusing existing connection to the-eye.eu:443.\n",
            "HTTP request sent, awaiting response... 200 OK\n",
            "Length: 4 [text/plain]\n",
            "Saving to: ‘the-eye.eu/robots.txt’\n",
            "\n",
            "the-eye.eu/robots.t 100%[===================>]       4  --.-KB/s    in 0s      \n",
            "\n",
            "2021-09-11 10:53:05 (567 KB/s) - ‘the-eye.eu/robots.txt’ saved [4/4]\n",
            "\n",
            "Removing the-eye.eu/public/AI/gptneo-release/GPT3_2-7B/index.html.tmp since it should be rejected.\n",
            "\n",
            "--2021-09-11 10:53:07--  https://the-eye.eu/public/AI/gptneo-release/GPT3_2-7B/checkpoint\n",
            "Reusing existing connection to the-eye.eu:443.\n",
            "HTTP request sent, awaiting response... 200 OK\n",
            "Length: 523 [application/octet-stream]\n",
            "Saving to: ‘the-eye.eu/public/AI/gptneo-release/GPT3_2-7B/checkpoint’\n",
            "\n",
            "the-eye.eu/public/A 100%[===================>]     523  --.-KB/s    in 0s      \n",
            "\n",
            "2021-09-11 10:53:07 (49.4 MB/s) - ‘the-eye.eu/public/AI/gptneo-release/GPT3_2-7B/checkpoint’ saved [523/523]\n",
            "\n",
            "--2021-09-11 10:53:09--  https://the-eye.eu/public/AI/gptneo-release/GPT3_2-7B/config.json\n",
            "Reusing existing connection to the-eye.eu:443.\n",
            "HTTP request sent, awaiting response... 200 OK\n",
            "Length: 937 [application/json]\n",
            "Saving to: ‘the-eye.eu/public/AI/gptneo-release/GPT3_2-7B/config.json’\n",
            "\n",
            "the-eye.eu/public/A 100%[===================>]     937  --.-KB/s    in 0s      \n",
            "\n",
            "2021-09-11 10:53:09 (128 MB/s) - ‘the-eye.eu/public/AI/gptneo-release/GPT3_2-7B/config.json’ saved [937/937]\n",
            "\n",
            "--2021-09-11 10:53:11--  https://the-eye.eu/public/AI/gptneo-release/GPT3_2-7B/model.ckpt-400000.data-00000-of-00064\n",
            "Reusing existing connection to the-eye.eu:443.\n",
            "HTTP request sent, awaiting response... 200 OK\n",
            "Length: 8 [application/octet-stream]\n",
            "Saving to: ‘the-eye.eu/public/AI/gptneo-release/GPT3_2-7B/model.ckpt-400000.data-00000-of-00064’\n",
            "\n",
            "the-eye.eu/public/A 100%[===================>]       8  --.-KB/s    in 0s      \n",
            "\n",
            "2021-09-11 10:53:11 (1.25 MB/s) - ‘the-eye.eu/public/AI/gptneo-release/GPT3_2-7B/model.ckpt-400000.data-00000-of-00064’ saved [8/8]\n",
            "\n",
            "--2021-09-11 10:53:13--  https://the-eye.eu/public/AI/gptneo-release/GPT3_2-7B/model.ckpt-400000.data-00001-of-00064\n",
            "Reusing existing connection to the-eye.eu:443.\n",
            "HTTP request sent, awaiting response... 200 OK\n",
            "Length: 571514880 (545M) [application/octet-stream]\n",
            "Saving to: ‘the-eye.eu/public/AI/gptneo-release/GPT3_2-7B/model.ckpt-400000.data-00001-of-00064’\n",
            "\n",
            "the-eye.eu/public/A 100%[===================>] 545.04M  79.5MB/s    in 7.0s    \n",
            "\n",
            "2021-09-11 10:53:21 (77.3 MB/s) - ‘the-eye.eu/public/AI/gptneo-release/GPT3_2-7B/model.ckpt-400000.data-00001-of-00064’ saved [571514880/571514880]\n",
            "\n",
            "--2021-09-11 10:53:23--  https://the-eye.eu/public/AI/gptneo-release/GPT3_2-7B/model.ckpt-400000.data-00002-of-00064\n",
            "Reusing existing connection to the-eye.eu:443.\n",
            "HTTP request sent, awaiting response... 200 OK\n",
            "Length: 514631680 (491M) [application/octet-stream]\n",
            "Saving to: ‘the-eye.eu/public/AI/gptneo-release/GPT3_2-7B/model.ckpt-400000.data-00002-of-00064’\n",
            "\n",
            "the-eye.eu/public/A 100%[===================>] 490.79M  78.8MB/s    in 6.4s    \n",
            "\n",
            "2021-09-11 10:53:29 (76.9 MB/s) - ‘the-eye.eu/public/AI/gptneo-release/GPT3_2-7B/model.ckpt-400000.data-00002-of-00064’ saved [514631680/514631680]\n",
            "\n",
            "--2021-09-11 10:53:31--  https://the-eye.eu/public/AI/gptneo-release/GPT3_2-7B/model.ckpt-400000.data-00003-of-00064\n",
            "Reusing existing connection to the-eye.eu:443.\n",
            "HTTP request sent, awaiting response... 200 OK\n",
            "Length: 466841600 (445M) [application/octet-stream]\n",
            "Saving to: ‘the-eye.eu/public/AI/gptneo-release/GPT3_2-7B/model.ckpt-400000.data-00003-of-00064’\n",
            "\n",
            "the-eye.eu/public/A 100%[===================>] 445.21M  81.1MB/s    in 5.7s    \n",
            "\n",
            "2021-09-11 10:53:37 (78.6 MB/s) - ‘the-eye.eu/public/AI/gptneo-release/GPT3_2-7B/model.ckpt-400000.data-00003-of-00064’ saved [466841600/466841600]\n",
            "\n",
            "--2021-09-11 10:53:39--  https://the-eye.eu/public/AI/gptneo-release/GPT3_2-7B/model.ckpt-400000.data-00004-of-00064\n",
            "Reusing existing connection to the-eye.eu:443.\n",
            "HTTP request sent, awaiting response... 200 OK\n",
            "Length: 524410880 (500M) [application/octet-stream]\n",
            "Saving to: ‘the-eye.eu/public/AI/gptneo-release/GPT3_2-7B/model.ckpt-400000.data-00004-of-00064’\n",
            "\n",
            "the-eye.eu/public/A 100%[===================>] 500.12M  79.6MB/s    in 6.6s    \n",
            "\n",
            "2021-09-11 10:53:45 (75.8 MB/s) - ‘the-eye.eu/public/AI/gptneo-release/GPT3_2-7B/model.ckpt-400000.data-00004-of-00064’ saved [524410880/524410880]\n",
            "\n",
            "--2021-09-11 10:53:47--  https://the-eye.eu/public/AI/gptneo-release/GPT3_2-7B/model.ckpt-400000.data-00005-of-00064\n",
            "Reusing existing connection to the-eye.eu:443.\n",
            "HTTP request sent, awaiting response... 200 OK\n",
            "Length: 466841600 (445M) [application/octet-stream]\n",
            "Saving to: ‘the-eye.eu/public/AI/gptneo-release/GPT3_2-7B/model.ckpt-400000.data-00005-of-00064’\n",
            "\n",
            "the-eye.eu/public/A 100%[===================>] 445.21M  81.7MB/s    in 5.7s    \n",
            "\n",
            "2021-09-11 10:53:53 (78.1 MB/s) - ‘the-eye.eu/public/AI/gptneo-release/GPT3_2-7B/model.ckpt-400000.data-00005-of-00064’ saved [466841600/466841600]\n",
            "\n",
            "--2021-09-11 10:53:55--  https://the-eye.eu/public/AI/gptneo-release/GPT3_2-7B/model.ckpt-400000.data-00006-of-00064\n",
            "Reusing existing connection to the-eye.eu:443.\n",
            "HTTP request sent, awaiting response... 200 OK\n",
            "Length: 550676480 (525M) [application/octet-stream]\n",
            "Saving to: ‘the-eye.eu/public/AI/gptneo-release/GPT3_2-7B/model.ckpt-400000.data-00006-of-00064’\n",
            "\n",
            "the-eye.eu/public/A 100%[===================>] 525.17M  72.3MB/s    in 7.1s    \n",
            "\n",
            "2021-09-11 10:54:02 (74.4 MB/s) - ‘the-eye.eu/public/AI/gptneo-release/GPT3_2-7B/model.ckpt-400000.data-00006-of-00064’ saved [550676480/550676480]\n",
            "\n",
            "--2021-09-11 10:54:04--  https://the-eye.eu/public/AI/gptneo-release/GPT3_2-7B/model.ckpt-400000.data-00007-of-00064\n",
            "Reusing existing connection to the-eye.eu:443.\n",
            "HTTP request sent, awaiting response... 200 OK\n",
            "Length: 471869440 (450M) [application/octet-stream]\n",
            "Saving to: ‘the-eye.eu/public/AI/gptneo-release/GPT3_2-7B/model.ckpt-400000.data-00007-of-00064’\n",
            "\n",
            "the-eye.eu/public/A 100%[===================>] 450.01M  63.7MB/s    in 6.5s    \n",
            "\n",
            "2021-09-11 10:54:11 (68.7 MB/s) - ‘the-eye.eu/public/AI/gptneo-release/GPT3_2-7B/model.ckpt-400000.data-00007-of-00064’ saved [471869440/471869440]\n",
            "\n",
            "--2021-09-11 10:54:13--  https://the-eye.eu/public/AI/gptneo-release/GPT3_2-7B/model.ckpt-400000.data-00008-of-00064\n",
            "Reusing existing connection to the-eye.eu:443.\n",
            "HTTP request sent, awaiting response... 200 OK\n",
            "Length: 498227200 (475M) [application/octet-stream]\n",
            "Saving to: ‘the-eye.eu/public/AI/gptneo-release/GPT3_2-7B/model.ckpt-400000.data-00008-of-00064’\n",
            "\n",
            "the-eye.eu/public/A 100%[===================>] 475.15M  49.2MB/s    in 10s     \n",
            "\n",
            "2021-09-11 10:54:23 (47.5 MB/s) - ‘the-eye.eu/public/AI/gptneo-release/GPT3_2-7B/model.ckpt-400000.data-00008-of-00064’ saved [498227200/498227200]\n",
            "\n",
            "--2021-09-11 10:54:25--  https://the-eye.eu/public/AI/gptneo-release/GPT3_2-7B/model.ckpt-400000.data-00009-of-00064\n",
            "Reusing existing connection to the-eye.eu:443.\n",
            "HTTP request sent, awaiting response... 200 OK\n",
            "Length: 550676480 (525M) [application/octet-stream]\n",
            "Saving to: ‘the-eye.eu/public/AI/gptneo-release/GPT3_2-7B/model.ckpt-400000.data-00009-of-00064’\n",
            "\n",
            "the-eye.eu/public/A 100%[===================>] 525.17M  30.9MB/s    in 13s     \n",
            "\n",
            "2021-09-11 10:54:38 (40.9 MB/s) - ‘the-eye.eu/public/AI/gptneo-release/GPT3_2-7B/model.ckpt-400000.data-00009-of-00064’ saved [550676480/550676480]\n",
            "\n",
            "--2021-09-11 10:54:40--  https://the-eye.eu/public/AI/gptneo-release/GPT3_2-7B/model.ckpt-400000.data-00010-of-00064\n",
            "Reusing existing connection to the-eye.eu:443.\n",
            "HTTP request sent, awaiting response... 200 OK\n",
            "Length: 645734400 (616M) [application/octet-stream]\n",
            "Saving to: ‘the-eye.eu/public/AI/gptneo-release/GPT3_2-7B/model.ckpt-400000.data-00010-of-00064’\n",
            "\n",
            "the-eye.eu/public/A 100%[===================>] 615.82M  35.5MB/s    in 15s     \n",
            "\n",
            "2021-09-11 10:54:55 (40.4 MB/s) - ‘the-eye.eu/public/AI/gptneo-release/GPT3_2-7B/model.ckpt-400000.data-00010-of-00064’ saved [645734400/645734400]\n",
            "\n",
            "--2021-09-11 10:54:59--  https://the-eye.eu/public/AI/gptneo-release/GPT3_2-7B/model.ckpt-400000.data-00011-of-00064\n",
            "Reusing existing connection to the-eye.eu:443.\n",
            "HTTP request sent, awaiting response... 200 OK\n",
            "Length: 472074240 (450M) [application/octet-stream]\n",
            "Saving to: ‘the-eye.eu/public/AI/gptneo-release/GPT3_2-7B/model.ckpt-400000.data-00011-of-00064’\n",
            "\n",
            "the-eye.eu/public/A 100%[===================>] 450.21M  60.7MB/s    in 6.7s    \n",
            "\n",
            "2021-09-11 10:55:06 (67.4 MB/s) - ‘the-eye.eu/public/AI/gptneo-release/GPT3_2-7B/model.ckpt-400000.data-00011-of-00064’ saved [472074240/472074240]\n",
            "\n",
            "--2021-09-11 10:55:08--  https://the-eye.eu/public/AI/gptneo-release/GPT3_2-7B/model.ckpt-400000.data-00012-of-00064\n",
            "Reusing existing connection to the-eye.eu:443.\n",
            "HTTP request sent, awaiting response... 200 OK\n",
            "Length: 498227200 (475M) [application/octet-stream]\n",
            "Saving to: ‘the-eye.eu/public/AI/gptneo-release/GPT3_2-7B/model.ckpt-400000.data-00012-of-00064’\n",
            "\n",
            "the-eye.eu/public/A 100%[===================>] 475.15M  51.5MB/s    in 11s     \n",
            "\n",
            "2021-09-11 10:55:19 (41.6 MB/s) - ‘the-eye.eu/public/AI/gptneo-release/GPT3_2-7B/model.ckpt-400000.data-00012-of-00064’ saved [498227200/498227200]\n",
            "\n",
            "--2021-09-11 10:55:21--  https://the-eye.eu/public/AI/gptneo-release/GPT3_2-7B/model.ckpt-400000.data-00013-of-00064\n",
            "Reusing existing connection to the-eye.eu:443.\n",
            "HTTP request sent, awaiting response... 200 OK\n",
            "Length: 550799360 (525M) [application/octet-stream]\n",
            "Saving to: ‘the-eye.eu/public/AI/gptneo-release/GPT3_2-7B/model.ckpt-400000.data-00013-of-00064’\n",
            "\n",
            "the-eye.eu/public/A 100%[===================>] 525.28M  64.9MB/s    in 7.4s    \n",
            "\n",
            "2021-09-11 10:55:31 (70.5 MB/s) - ‘the-eye.eu/public/AI/gptneo-release/GPT3_2-7B/model.ckpt-400000.data-00013-of-00064’ saved [550799360/550799360]\n",
            "\n",
            "--2021-09-11 10:55:33--  https://the-eye.eu/public/AI/gptneo-release/GPT3_2-7B/model.ckpt-400000.data-00014-of-00064\n",
            "Reusing existing connection to the-eye.eu:443.\n",
            "HTTP request sent, awaiting response... 200 OK\n",
            "Length: 550563840 (525M) [application/octet-stream]\n",
            "Saving to: ‘the-eye.eu/public/AI/gptneo-release/GPT3_2-7B/model.ckpt-400000.data-00014-of-00064’\n",
            "\n",
            "the-eye.eu/public/A 100%[===================>] 525.06M  45.1MB/s    in 13s     \n",
            "\n",
            "2021-09-11 10:55:46 (41.8 MB/s) - ‘the-eye.eu/public/AI/gptneo-release/GPT3_2-7B/model.ckpt-400000.data-00014-of-00064’ saved [550563840/550563840]\n",
            "\n",
            "--2021-09-11 10:55:48--  https://the-eye.eu/public/AI/gptneo-release/GPT3_2-7B/model.ckpt-400000.data-00015-of-00064\n",
            "Reusing existing connection to the-eye.eu:443.\n",
            "HTTP request sent, awaiting response... 200 OK\n",
            "Length: 498339840 (475M) [application/octet-stream]\n",
            "Saving to: ‘the-eye.eu/public/AI/gptneo-release/GPT3_2-7B/model.ckpt-400000.data-00015-of-00064’\n",
            "\n",
            "the-eye.eu/public/A 100%[===================>] 475.25M  31.8MB/s    in 11s     \n",
            "\n",
            "2021-09-11 10:55:59 (43.9 MB/s) - ‘the-eye.eu/public/AI/gptneo-release/GPT3_2-7B/model.ckpt-400000.data-00015-of-00064’ saved [498339840/498339840]\n",
            "\n",
            "--2021-09-11 10:56:01--  https://the-eye.eu/public/AI/gptneo-release/GPT3_2-7B/model.ckpt-400000.data-00016-of-00064\n",
            "Reusing existing connection to the-eye.eu:443.\n",
            "HTTP request sent, awaiting response... 200 OK\n",
            "Length: 550799360 (525M) [application/octet-stream]\n",
            "Saving to: ‘the-eye.eu/public/AI/gptneo-release/GPT3_2-7B/model.ckpt-400000.data-00016-of-00064’\n",
            "\n",
            "the-eye.eu/public/A 100%[===================>] 525.28M  47.1MB/s    in 11s     \n",
            "\n",
            "2021-09-11 10:56:12 (46.6 MB/s) - ‘the-eye.eu/public/AI/gptneo-release/GPT3_2-7B/model.ckpt-400000.data-00016-of-00064’ saved [550799360/550799360]\n",
            "\n",
            "--2021-09-11 10:56:14--  https://the-eye.eu/public/AI/gptneo-release/GPT3_2-7B/model.ckpt-400000.data-00017-of-00064\n",
            "Reusing existing connection to the-eye.eu:443.\n",
            "HTTP request sent, awaiting response... 200 OK\n",
            "Length: 471961600 (450M) [application/octet-stream]\n",
            "Saving to: ‘the-eye.eu/public/AI/gptneo-release/GPT3_2-7B/model.ckpt-400000.data-00017-of-00064’\n",
            "\n",
            "the-eye.eu/public/A 100%[===================>] 450.10M  34.1MB/s    in 11s     \n",
            "\n",
            "2021-09-11 10:56:25 (41.5 MB/s) - ‘the-eye.eu/public/AI/gptneo-release/GPT3_2-7B/model.ckpt-400000.data-00017-of-00064’ saved [471961600/471961600]\n",
            "\n",
            "--2021-09-11 10:56:27--  https://the-eye.eu/public/AI/gptneo-release/GPT3_2-7B/model.ckpt-400000.data-00018-of-00064\n",
            "Reusing existing connection to the-eye.eu:443.\n",
            "HTTP request sent, awaiting response... 200 OK\n",
            "Length: 472064000 (450M) [application/octet-stream]\n",
            "Saving to: ‘the-eye.eu/public/AI/gptneo-release/GPT3_2-7B/model.ckpt-400000.data-00018-of-00064’\n",
            "\n",
            "the-eye.eu/public/A 100%[===================>] 450.20M  44.3MB/s    in 8.5s    \n",
            "\n",
            "2021-09-11 10:56:36 (53.3 MB/s) - ‘the-eye.eu/public/AI/gptneo-release/GPT3_2-7B/model.ckpt-400000.data-00018-of-00064’ saved [472064000/472064000]\n",
            "\n",
            "--2021-09-11 10:56:38--  https://the-eye.eu/public/AI/gptneo-release/GPT3_2-7B/model.ckpt-400000.data-00019-of-00064\n",
            "Reusing existing connection to the-eye.eu:443.\n",
            "HTTP request sent, awaiting response... 200 OK\n",
            "Length: 472064000 (450M) [application/octet-stream]\n",
            "Saving to: ‘the-eye.eu/public/AI/gptneo-release/GPT3_2-7B/model.ckpt-400000.data-00019-of-00064’\n",
            "\n",
            "the-eye.eu/public/A 100%[===================>] 450.20M  39.7MB/s    in 10s     \n",
            "\n",
            "2021-09-11 10:56:48 (43.7 MB/s) - ‘the-eye.eu/public/AI/gptneo-release/GPT3_2-7B/model.ckpt-400000.data-00019-of-00064’ saved [472064000/472064000]\n",
            "\n",
            "--2021-09-11 10:56:50--  https://the-eye.eu/public/AI/gptneo-release/GPT3_2-7B/model.ckpt-400000.data-00020-of-00064\n",
            "Reusing existing connection to the-eye.eu:443.\n",
            "HTTP request sent, awaiting response... 200 OK\n",
            "Length: 472043520 (450M) [application/octet-stream]\n",
            "Saving to: ‘the-eye.eu/public/AI/gptneo-release/GPT3_2-7B/model.ckpt-400000.data-00020-of-00064’\n",
            "\n",
            "the-eye.eu/public/A 100%[===================>] 450.18M  35.9MB/s    in 9.4s    \n",
            "\n",
            "2021-09-11 10:57:00 (48.1 MB/s) - ‘the-eye.eu/public/AI/gptneo-release/GPT3_2-7B/model.ckpt-400000.data-00020-of-00064’ saved [472043520/472043520]\n",
            "\n",
            "--2021-09-11 10:57:03--  https://the-eye.eu/public/AI/gptneo-release/GPT3_2-7B/model.ckpt-400000.data-00021-of-00064\n",
            "Reusing existing connection to the-eye.eu:443.\n",
            "HTTP request sent, awaiting response... 200 OK\n",
            "Length: 550584320 (525M) [application/octet-stream]\n",
            "Saving to: ‘the-eye.eu/public/AI/gptneo-release/GPT3_2-7B/model.ckpt-400000.data-00021-of-00064’\n",
            "\n",
            "the-eye.eu/public/A 100%[===================>] 525.08M  32.5MB/s    in 9.5s    \n",
            "\n",
            "2021-09-11 10:57:13 (55.1 MB/s) - ‘the-eye.eu/public/AI/gptneo-release/GPT3_2-7B/model.ckpt-400000.data-00021-of-00064’ saved [550584320/550584320]\n",
            "\n",
            "--2021-09-11 10:57:15--  https://the-eye.eu/public/AI/gptneo-release/GPT3_2-7B/model.ckpt-400000.data-00022-of-00064\n",
            "Reusing existing connection to the-eye.eu:443.\n",
            "HTTP request sent, awaiting response... 200 OK\n",
            "Length: 550584320 (525M) [application/octet-stream]\n",
            "Saving to: ‘the-eye.eu/public/AI/gptneo-release/GPT3_2-7B/model.ckpt-400000.data-00022-of-00064’\n",
            "\n",
            "the-eye.eu/public/A 100%[===================>] 525.08M  44.4MB/s    in 12s     \n",
            "\n",
            "2021-09-11 10:57:27 (45.5 MB/s) - ‘the-eye.eu/public/AI/gptneo-release/GPT3_2-7B/model.ckpt-400000.data-00022-of-00064’ saved [550584320/550584320]\n",
            "\n",
            "--2021-09-11 10:57:29--  https://the-eye.eu/public/AI/gptneo-release/GPT3_2-7B/model.ckpt-400000.data-00023-of-00064\n",
            "Reusing existing connection to the-eye.eu:443.\n",
            "HTTP request sent, awaiting response... 200 OK\n",
            "Length: 472043520 (450M) [application/octet-stream]\n",
            "Saving to: ‘the-eye.eu/public/AI/gptneo-release/GPT3_2-7B/model.ckpt-400000.data-00023-of-00064’\n",
            "\n",
            "the-eye.eu/public/A 100%[===================>] 450.18M  35.3MB/s    in 9.7s    \n",
            "\n",
            "2021-09-11 10:57:38 (46.6 MB/s) - ‘the-eye.eu/public/AI/gptneo-release/GPT3_2-7B/model.ckpt-400000.data-00023-of-00064’ saved [472043520/472043520]\n",
            "\n",
            "--2021-09-11 10:57:41--  https://the-eye.eu/public/AI/gptneo-release/GPT3_2-7B/model.ckpt-400000.data-00024-of-00064\n",
            "Reusing existing connection to the-eye.eu:443.\n",
            "HTTP request sent, awaiting response... 200 OK\n",
            "Length: 471992320 (450M) [application/octet-stream]\n",
            "Saving to: ‘the-eye.eu/public/AI/gptneo-release/GPT3_2-7B/model.ckpt-400000.data-00024-of-00064’\n",
            "\n",
            "the-eye.eu/public/A 100%[===================>] 450.13M  81.3MB/s    in 5.9s    \n",
            "\n",
            "2021-09-11 10:57:47 (76.6 MB/s) - ‘the-eye.eu/public/AI/gptneo-release/GPT3_2-7B/model.ckpt-400000.data-00024-of-00064’ saved [471992320/471992320]\n",
            "\n",
            "--2021-09-11 10:57:49--  https://the-eye.eu/public/AI/gptneo-release/GPT3_2-7B/model.ckpt-400000.data-00025-of-00064\n",
            "Reusing existing connection to the-eye.eu:443.\n",
            "HTTP request sent, awaiting response... 200 OK\n",
            "Length: 471961600 (450M) [application/octet-stream]\n",
            "Saving to: ‘the-eye.eu/public/AI/gptneo-release/GPT3_2-7B/model.ckpt-400000.data-00025-of-00064’\n",
            "\n",
            "the-eye.eu/public/A 100%[===================>] 450.10M  79.7MB/s    in 5.9s    \n",
            "\n",
            "2021-09-11 10:57:55 (76.0 MB/s) - ‘the-eye.eu/public/AI/gptneo-release/GPT3_2-7B/model.ckpt-400000.data-00025-of-00064’ saved [471961600/471961600]\n",
            "\n",
            "--2021-09-11 10:57:57--  https://the-eye.eu/public/AI/gptneo-release/GPT3_2-7B/model.ckpt-400000.data-00026-of-00064\n",
            "Reusing existing connection to the-eye.eu:443.\n",
            "HTTP request sent, awaiting response... 200 OK\n",
            "Length: 550666240 (525M) [application/octet-stream]\n",
            "Saving to: ‘the-eye.eu/public/AI/gptneo-release/GPT3_2-7B/model.ckpt-400000.data-00026-of-00064’\n",
            "\n",
            "the-eye.eu/public/A 100%[===================>] 525.16M  79.0MB/s    in 6.8s    \n",
            "\n",
            "2021-09-11 10:58:03 (77.4 MB/s) - ‘the-eye.eu/public/AI/gptneo-release/GPT3_2-7B/model.ckpt-400000.data-00026-of-00064’ saved [550666240/550666240]\n",
            "\n",
            "--2021-09-11 10:58:05--  https://the-eye.eu/public/AI/gptneo-release/GPT3_2-7B/model.ckpt-400000.data-00027-of-00064\n",
            "Reusing existing connection to the-eye.eu:443.\n",
            "HTTP request sent, awaiting response... 200 OK\n",
            "Length: 645734400 (616M) [application/octet-stream]\n",
            "Saving to: ‘the-eye.eu/public/AI/gptneo-release/GPT3_2-7B/model.ckpt-400000.data-00027-of-00064’\n",
            "\n",
            "the-eye.eu/public/A 100%[===================>] 615.82M  81.1MB/s    in 7.8s    \n",
            "\n",
            "2021-09-11 10:58:13 (78.7 MB/s) - ‘the-eye.eu/public/AI/gptneo-release/GPT3_2-7B/model.ckpt-400000.data-00027-of-00064’ saved [645734400/645734400]\n",
            "\n",
            "--2021-09-11 10:58:15--  https://the-eye.eu/public/AI/gptneo-release/GPT3_2-7B/model.ckpt-400000.data-00028-of-00064\n",
            "Reusing existing connection to the-eye.eu:443.\n",
            "HTTP request sent, awaiting response... 200 OK\n",
            "Length: 498339840 (475M) [application/octet-stream]\n",
            "Saving to: ‘the-eye.eu/public/AI/gptneo-release/GPT3_2-7B/model.ckpt-400000.data-00028-of-00064’\n",
            "\n",
            "the-eye.eu/public/A 100%[===================>] 475.25M  81.1MB/s    in 6.1s    \n",
            "\n",
            "2021-09-11 10:58:22 (77.4 MB/s) - ‘the-eye.eu/public/AI/gptneo-release/GPT3_2-7B/model.ckpt-400000.data-00028-of-00064’ saved [498339840/498339840]\n",
            "\n",
            "--2021-09-11 10:58:24--  https://the-eye.eu/public/AI/gptneo-release/GPT3_2-7B/model.ckpt-400000.data-00029-of-00064\n",
            "Reusing existing connection to the-eye.eu:443.\n",
            "HTTP request sent, awaiting response... 200 OK\n",
            "Length: 471992320 (450M) [application/octet-stream]\n",
            "Saving to: ‘the-eye.eu/public/AI/gptneo-release/GPT3_2-7B/model.ckpt-400000.data-00029-of-00064’\n",
            "\n",
            "the-eye.eu/public/A 100%[===================>] 450.13M  79.5MB/s    in 5.9s    \n",
            "\n",
            "2021-09-11 10:58:30 (75.8 MB/s) - ‘the-eye.eu/public/AI/gptneo-release/GPT3_2-7B/model.ckpt-400000.data-00029-of-00064’ saved [471992320/471992320]\n",
            "\n",
            "--2021-09-11 10:58:32--  https://the-eye.eu/public/AI/gptneo-release/GPT3_2-7B/model.ckpt-400000.data-00030-of-00064\n",
            "Reusing existing connection to the-eye.eu:443.\n",
            "HTTP request sent, awaiting response... 200 OK\n",
            "Length: 550563840 (525M) [application/octet-stream]\n",
            "Saving to: ‘the-eye.eu/public/AI/gptneo-release/GPT3_2-7B/model.ckpt-400000.data-00030-of-00064’\n",
            "\n",
            "the-eye.eu/public/A 100%[===================>] 525.06M  82.4MB/s    in 6.8s    \n",
            "\n",
            "2021-09-11 10:58:38 (77.8 MB/s) - ‘the-eye.eu/public/AI/gptneo-release/GPT3_2-7B/model.ckpt-400000.data-00030-of-00064’ saved [550563840/550563840]\n",
            "\n",
            "--2021-09-11 10:58:40--  https://the-eye.eu/public/AI/gptneo-release/GPT3_2-7B/model.ckpt-400000.data-00031-of-00064\n",
            "Reusing existing connection to the-eye.eu:443.\n",
            "HTTP request sent, awaiting response... 200 OK\n",
            "Length: 498124800 (475M) [application/octet-stream]\n",
            "Saving to: ‘the-eye.eu/public/AI/gptneo-release/GPT3_2-7B/model.ckpt-400000.data-00031-of-00064’\n",
            "\n",
            "the-eye.eu/public/A 100%[===================>] 475.05M  79.6MB/s    in 6.2s    \n",
            "\n",
            "2021-09-11 10:58:47 (76.3 MB/s) - ‘the-eye.eu/public/AI/gptneo-release/GPT3_2-7B/model.ckpt-400000.data-00031-of-00064’ saved [498124800/498124800]\n",
            "\n",
            "--2021-09-11 10:58:49--  https://the-eye.eu/public/AI/gptneo-release/GPT3_2-7B/model.ckpt-400000.data-00032-of-00064\n",
            "Reusing existing connection to the-eye.eu:443.\n",
            "HTTP request sent, awaiting response... 200 OK\n",
            "Length: 498145280 (475M) [application/octet-stream]\n",
            "Saving to: ‘the-eye.eu/public/AI/gptneo-release/GPT3_2-7B/model.ckpt-400000.data-00032-of-00064’\n",
            "\n",
            "the-eye.eu/public/A 100%[===================>] 475.07M  80.6MB/s    in 6.1s    \n",
            "\n",
            "2021-09-11 10:58:55 (77.4 MB/s) - ‘the-eye.eu/public/AI/gptneo-release/GPT3_2-7B/model.ckpt-400000.data-00032-of-00064’ saved [498145280/498145280]\n",
            "\n",
            "--2021-09-11 10:58:57--  https://the-eye.eu/public/AI/gptneo-release/GPT3_2-7B/model.ckpt-400000.data-00033-of-00064\n",
            "Reusing existing connection to the-eye.eu:443.\n",
            "HTTP request sent, awaiting response... 200 OK\n",
            "Length: 498227200 (475M) [application/octet-stream]\n",
            "Saving to: ‘the-eye.eu/public/AI/gptneo-release/GPT3_2-7B/model.ckpt-400000.data-00033-of-00064’\n",
            "\n",
            "the-eye.eu/public/A 100%[===================>] 475.15M  79.2MB/s    in 6.4s    \n",
            "\n",
            "2021-09-11 10:59:03 (73.8 MB/s) - ‘the-eye.eu/public/AI/gptneo-release/GPT3_2-7B/model.ckpt-400000.data-00033-of-00064’ saved [498227200/498227200]\n",
            "\n",
            "--2021-09-11 10:59:06--  https://the-eye.eu/public/AI/gptneo-release/GPT3_2-7B/model.ckpt-400000.data-00034-of-00064\n",
            "Reusing existing connection to the-eye.eu:443.\n",
            "HTTP request sent, awaiting response... 200 OK\n",
            "Length: 524492800 (500M) [application/octet-stream]\n",
            "Saving to: ‘the-eye.eu/public/AI/gptneo-release/GPT3_2-7B/model.ckpt-400000.data-00034-of-00064’\n",
            "\n",
            "the-eye.eu/public/A 100%[===================>] 500.20M  81.5MB/s    in 6.4s    \n",
            "\n",
            "2021-09-11 10:59:12 (77.7 MB/s) - ‘the-eye.eu/public/AI/gptneo-release/GPT3_2-7B/model.ckpt-400000.data-00034-of-00064’ saved [524492800/524492800]\n",
            "\n",
            "--2021-09-11 10:59:14--  https://the-eye.eu/public/AI/gptneo-release/GPT3_2-7B/model.ckpt-400000.data-00035-of-00064\n",
            "Reusing existing connection to the-eye.eu:443.\n",
            "HTTP request sent, awaiting response... 200 OK\n",
            "Length: 551024640 (525M) [application/octet-stream]\n",
            "Saving to: ‘the-eye.eu/public/AI/gptneo-release/GPT3_2-7B/model.ckpt-400000.data-00035-of-00064’\n",
            "\n",
            "the-eye.eu/public/A 100%[===================>] 525.50M  79.8MB/s    in 6.9s    \n",
            "\n",
            "2021-09-11 10:59:21 (75.6 MB/s) - ‘the-eye.eu/public/AI/gptneo-release/GPT3_2-7B/model.ckpt-400000.data-00035-of-00064’ saved [551024640/551024640]\n",
            "\n",
            "--2021-09-11 10:59:23--  https://the-eye.eu/public/AI/gptneo-release/GPT3_2-7B/model.ckpt-400000.data-00036-of-00064\n",
            "Reusing existing connection to the-eye.eu:443.\n",
            "HTTP request sent, awaiting response... 200 OK\n",
            "Length: 498124800 (475M) [application/octet-stream]\n",
            "Saving to: ‘the-eye.eu/public/AI/gptneo-release/GPT3_2-7B/model.ckpt-400000.data-00036-of-00064’\n",
            "\n",
            "the-eye.eu/public/A 100%[===================>] 475.05M  82.0MB/s    in 6.1s    \n",
            "\n",
            "2021-09-11 10:59:29 (77.6 MB/s) - ‘the-eye.eu/public/AI/gptneo-release/GPT3_2-7B/model.ckpt-400000.data-00036-of-00064’ saved [498124800/498124800]\n",
            "\n",
            "--2021-09-11 10:59:31--  https://the-eye.eu/public/AI/gptneo-release/GPT3_2-7B/model.ckpt-400000.data-00037-of-00064\n",
            "Reusing existing connection to the-eye.eu:443.\n",
            "HTTP request sent, awaiting response... 200 OK\n",
            "Length: 524492800 (500M) [application/octet-stream]\n",
            "Saving to: ‘the-eye.eu/public/AI/gptneo-release/GPT3_2-7B/model.ckpt-400000.data-00037-of-00064’\n",
            "\n",
            "the-eye.eu/public/A 100%[===================>] 500.20M  80.1MB/s    in 6.4s    \n",
            "\n",
            "2021-09-11 10:59:38 (78.1 MB/s) - ‘the-eye.eu/public/AI/gptneo-release/GPT3_2-7B/model.ckpt-400000.data-00037-of-00064’ saved [524492800/524492800]\n",
            "\n",
            "--2021-09-11 10:59:40--  https://the-eye.eu/public/AI/gptneo-release/GPT3_2-7B/model.ckpt-400000.data-00038-of-00064\n",
            "Reusing existing connection to the-eye.eu:443.\n",
            "HTTP request sent, awaiting response... 200 OK\n",
            "Length: 498145280 (475M) [application/octet-stream]\n",
            "Saving to: ‘the-eye.eu/public/AI/gptneo-release/GPT3_2-7B/model.ckpt-400000.data-00038-of-00064’\n",
            "\n",
            "the-eye.eu/public/A 100%[===================>] 475.07M  79.9MB/s    in 6.2s    \n",
            "\n",
            "2021-09-11 10:59:46 (76.9 MB/s) - ‘the-eye.eu/public/AI/gptneo-release/GPT3_2-7B/model.ckpt-400000.data-00038-of-00064’ saved [498145280/498145280]\n",
            "\n",
            "--2021-09-11 10:59:48--  https://the-eye.eu/public/AI/gptneo-release/GPT3_2-7B/model.ckpt-400000.data-00039-of-00064\n",
            "Reusing existing connection to the-eye.eu:443.\n",
            "HTTP request sent, awaiting response... 200 OK\n",
            "Length: 472115200 (450M) [application/octet-stream]\n",
            "Saving to: ‘the-eye.eu/public/AI/gptneo-release/GPT3_2-7B/model.ckpt-400000.data-00039-of-00064’\n",
            "\n",
            "the-eye.eu/public/A 100%[===================>] 450.24M  81.2MB/s    in 5.8s    \n",
            "\n",
            "2021-09-11 10:59:54 (77.4 MB/s) - ‘the-eye.eu/public/AI/gptneo-release/GPT3_2-7B/model.ckpt-400000.data-00039-of-00064’ saved [472115200/472115200]\n",
            "\n",
            "--2021-09-11 10:59:56--  https://the-eye.eu/public/AI/gptneo-release/GPT3_2-7B/model.ckpt-400000.data-00040-of-00064\n",
            "Reusing existing connection to the-eye.eu:443.\n",
            "HTTP request sent, awaiting response... 200 OK\n",
            "Length: 498227200 (475M) [application/octet-stream]\n",
            "Saving to: ‘the-eye.eu/public/AI/gptneo-release/GPT3_2-7B/model.ckpt-400000.data-00040-of-00064’\n",
            "\n",
            "the-eye.eu/public/A 100%[===================>] 475.15M  80.8MB/s    in 6.1s    \n",
            "\n",
            "2021-09-11 11:00:02 (78.3 MB/s) - ‘the-eye.eu/public/AI/gptneo-release/GPT3_2-7B/model.ckpt-400000.data-00040-of-00064’ saved [498227200/498227200]\n",
            "\n",
            "--2021-09-11 11:00:04--  https://the-eye.eu/public/AI/gptneo-release/GPT3_2-7B/model.ckpt-400000.data-00041-of-00064\n",
            "Reusing existing connection to the-eye.eu:443.\n",
            "HTTP request sent, awaiting response... 200 OK\n",
            "Length: 524400640 (500M) [application/octet-stream]\n",
            "Saving to: ‘the-eye.eu/public/AI/gptneo-release/GPT3_2-7B/model.ckpt-400000.data-00041-of-00064’\n",
            "\n",
            "the-eye.eu/public/A 100%[===================>] 500.11M  79.5MB/s    in 6.6s    \n",
            "\n",
            "2021-09-11 11:00:11 (76.1 MB/s) - ‘the-eye.eu/public/AI/gptneo-release/GPT3_2-7B/model.ckpt-400000.data-00041-of-00064’ saved [524400640/524400640]\n",
            "\n",
            "--2021-09-11 11:00:13--  https://the-eye.eu/public/AI/gptneo-release/GPT3_2-7B/model.ckpt-400000.data-00042-of-00064\n",
            "Reusing existing connection to the-eye.eu:443.\n",
            "HTTP request sent, awaiting response... 200 OK\n",
            "Length: 471951360 (450M) [application/octet-stream]\n",
            "Saving to: ‘the-eye.eu/public/AI/gptneo-release/GPT3_2-7B/model.ckpt-400000.data-00042-of-00064’\n",
            "\n",
            "the-eye.eu/public/A 100%[===================>] 450.09M  80.3MB/s    in 5.8s    \n",
            "\n",
            "2021-09-11 11:00:19 (77.1 MB/s) - ‘the-eye.eu/public/AI/gptneo-release/GPT3_2-7B/model.ckpt-400000.data-00042-of-00064’ saved [471951360/471951360]\n",
            "\n",
            "--2021-09-11 11:00:21--  https://the-eye.eu/public/AI/gptneo-release/GPT3_2-7B/model.ckpt-400000.data-00043-of-00064\n",
            "Reusing existing connection to the-eye.eu:443.\n",
            "HTTP request sent, awaiting response... 200 OK\n",
            "Length: 524400640 (500M) [application/octet-stream]\n",
            "Saving to: ‘the-eye.eu/public/AI/gptneo-release/GPT3_2-7B/model.ckpt-400000.data-00043-of-00064’\n",
            "\n",
            "the-eye.eu/public/A 100%[===================>] 500.11M  79.7MB/s    in 6.6s    \n",
            "\n",
            "2021-09-11 11:00:27 (76.3 MB/s) - ‘the-eye.eu/public/AI/gptneo-release/GPT3_2-7B/model.ckpt-400000.data-00043-of-00064’ saved [524400640/524400640]\n",
            "\n",
            "--2021-09-11 11:00:29--  https://the-eye.eu/public/AI/gptneo-release/GPT3_2-7B/model.ckpt-400000.data-00044-of-00064\n",
            "Reusing existing connection to the-eye.eu:443.\n",
            "HTTP request sent, awaiting response... 200 OK\n",
            "Length: 472115200 (450M) [application/octet-stream]\n",
            "Saving to: ‘the-eye.eu/public/AI/gptneo-release/GPT3_2-7B/model.ckpt-400000.data-00044-of-00064’\n",
            "\n",
            "the-eye.eu/public/A 100%[===================>] 450.24M  83.1MB/s    in 5.8s    \n",
            "\n",
            "2021-09-11 11:00:35 (78.2 MB/s) - ‘the-eye.eu/public/AI/gptneo-release/GPT3_2-7B/model.ckpt-400000.data-00044-of-00064’ saved [472115200/472115200]\n",
            "\n",
            "--2021-09-11 11:00:37--  https://the-eye.eu/public/AI/gptneo-release/GPT3_2-7B/model.ckpt-400000.data-00045-of-00064\n",
            "Reusing existing connection to the-eye.eu:443.\n",
            "HTTP request sent, awaiting response... 200 OK\n",
            "Length: 471971840 (450M) [application/octet-stream]\n",
            "Saving to: ‘the-eye.eu/public/AI/gptneo-release/GPT3_2-7B/model.ckpt-400000.data-00045-of-00064’\n",
            "\n",
            "the-eye.eu/public/A 100%[===================>] 450.11M  81.4MB/s    in 5.8s    \n",
            "\n",
            "2021-09-11 11:00:43 (77.7 MB/s) - ‘the-eye.eu/public/AI/gptneo-release/GPT3_2-7B/model.ckpt-400000.data-00045-of-00064’ saved [471971840/471971840]\n",
            "\n",
            "--2021-09-11 11:00:45--  https://the-eye.eu/public/AI/gptneo-release/GPT3_2-7B/model.ckpt-400000.data-00046-of-00064\n",
            "Reusing existing connection to the-eye.eu:443.\n",
            "HTTP request sent, awaiting response... 200 OK\n",
            "Length: 550666240 (525M) [application/octet-stream]\n",
            "Saving to: ‘the-eye.eu/public/AI/gptneo-release/GPT3_2-7B/model.ckpt-400000.data-00046-of-00064’\n",
            "\n",
            "the-eye.eu/public/A 100%[===================>] 525.16M  79.6MB/s    in 6.8s    \n",
            "\n",
            "2021-09-11 11:00:52 (77.2 MB/s) - ‘the-eye.eu/public/AI/gptneo-release/GPT3_2-7B/model.ckpt-400000.data-00046-of-00064’ saved [550666240/550666240]\n",
            "\n",
            "--2021-09-11 11:00:54--  https://the-eye.eu/public/AI/gptneo-release/GPT3_2-7B/model.ckpt-400000.data-00047-of-00064\n",
            "Reusing existing connection to the-eye.eu:443.\n",
            "HTTP request sent, awaiting response... 200 OK\n",
            "Length: 472064000 (450M) [application/octet-stream]\n",
            "Saving to: ‘the-eye.eu/public/AI/gptneo-release/GPT3_2-7B/model.ckpt-400000.data-00047-of-00064’\n",
            "\n",
            "the-eye.eu/public/A 100%[===================>] 450.20M  81.0MB/s    in 5.9s    \n",
            "\n",
            "2021-09-11 11:01:00 (76.7 MB/s) - ‘the-eye.eu/public/AI/gptneo-release/GPT3_2-7B/model.ckpt-400000.data-00047-of-00064’ saved [472064000/472064000]\n",
            "\n",
            "--2021-09-11 11:01:02--  https://the-eye.eu/public/AI/gptneo-release/GPT3_2-7B/model.ckpt-400000.data-00048-of-00064\n",
            "Reusing existing connection to the-eye.eu:443.\n",
            "HTTP request sent, awaiting response... 200 OK\n",
            "Length: 498380800 (475M) [application/octet-stream]\n",
            "Saving to: ‘the-eye.eu/public/AI/gptneo-release/GPT3_2-7B/model.ckpt-400000.data-00048-of-00064’\n",
            "\n",
            "the-eye.eu/public/A 100%[===================>] 475.29M  76.8MB/s    in 6.2s    \n",
            "\n",
            "2021-09-11 11:01:08 (76.2 MB/s) - ‘the-eye.eu/public/AI/gptneo-release/GPT3_2-7B/model.ckpt-400000.data-00048-of-00064’ saved [498380800/498380800]\n",
            "\n",
            "--2021-09-11 11:01:10--  https://the-eye.eu/public/AI/gptneo-release/GPT3_2-7B/model.ckpt-400000.data-00049-of-00064\n",
            "Reusing existing connection to the-eye.eu:443.\n",
            "HTTP request sent, awaiting response... 200 OK\n",
            "Length: 471951360 (450M) [application/octet-stream]\n",
            "Saving to: ‘the-eye.eu/public/AI/gptneo-release/GPT3_2-7B/model.ckpt-400000.data-00049-of-00064’\n",
            "\n",
            "the-eye.eu/public/A 100%[===================>] 450.09M  78.7MB/s    in 5.8s    \n",
            "\n",
            "2021-09-11 11:01:16 (77.0 MB/s) - ‘the-eye.eu/public/AI/gptneo-release/GPT3_2-7B/model.ckpt-400000.data-00049-of-00064’ saved [471951360/471951360]\n",
            "\n",
            "--2021-09-11 11:01:18--  https://the-eye.eu/public/AI/gptneo-release/GPT3_2-7B/model.ckpt-400000.data-00050-of-00064\n",
            "Reusing existing connection to the-eye.eu:443.\n",
            "HTTP request sent, awaiting response... 200 OK\n",
            "Length: 471971840 (450M) [application/octet-stream]\n",
            "Saving to: ‘the-eye.eu/public/AI/gptneo-release/GPT3_2-7B/model.ckpt-400000.data-00050-of-00064’\n",
            "\n",
            "the-eye.eu/public/A 100%[===================>] 450.11M  79.6MB/s    in 5.9s    \n",
            "\n",
            "2021-09-11 11:01:24 (76.4 MB/s) - ‘the-eye.eu/public/AI/gptneo-release/GPT3_2-7B/model.ckpt-400000.data-00050-of-00064’ saved [471971840/471971840]\n",
            "\n",
            "--2021-09-11 11:01:26--  https://the-eye.eu/public/AI/gptneo-release/GPT3_2-7B/model.ckpt-400000.data-00051-of-00064\n",
            "Reusing existing connection to the-eye.eu:443.\n",
            "HTTP request sent, awaiting response... 200 OK\n",
            "Length: 471859200 (450M) [application/octet-stream]\n",
            "Saving to: ‘the-eye.eu/public/AI/gptneo-release/GPT3_2-7B/model.ckpt-400000.data-00051-of-00064’\n",
            "\n",
            "the-eye.eu/public/A 100%[===================>] 450.00M  80.2MB/s    in 5.8s    \n",
            "\n",
            "2021-09-11 11:01:32 (77.2 MB/s) - ‘the-eye.eu/public/AI/gptneo-release/GPT3_2-7B/model.ckpt-400000.data-00051-of-00064’ saved [471859200/471859200]\n",
            "\n",
            "--2021-09-11 11:01:34--  https://the-eye.eu/public/AI/gptneo-release/GPT3_2-7B/model.ckpt-400000.data-00052-of-00064\n",
            "Reusing existing connection to the-eye.eu:443.\n",
            "HTTP request sent, awaiting response... 200 OK\n",
            "Length: 472064000 (450M) [application/octet-stream]\n",
            "Saving to: ‘the-eye.eu/public/AI/gptneo-release/GPT3_2-7B/model.ckpt-400000.data-00052-of-00064’\n",
            "\n",
            "the-eye.eu/public/A 100%[===================>] 450.20M  80.5MB/s    in 6.0s    \n",
            "\n",
            "2021-09-11 11:01:40 (75.7 MB/s) - ‘the-eye.eu/public/AI/gptneo-release/GPT3_2-7B/model.ckpt-400000.data-00052-of-00064’ saved [472064000/472064000]\n",
            "\n",
            "--2021-09-11 11:01:42--  https://the-eye.eu/public/AI/gptneo-release/GPT3_2-7B/model.ckpt-400000.data-00053-of-00064\n",
            "Reusing existing connection to the-eye.eu:443.\n",
            "HTTP request sent, awaiting response... 200 OK\n",
            "Length: 498380800 (475M) [application/octet-stream]\n",
            "Saving to: ‘the-eye.eu/public/AI/gptneo-release/GPT3_2-7B/model.ckpt-400000.data-00053-of-00064’\n",
            "\n",
            "the-eye.eu/public/A 100%[===================>] 475.29M  80.4MB/s    in 6.2s    \n",
            "\n",
            "2021-09-11 11:01:48 (77.0 MB/s) - ‘the-eye.eu/public/AI/gptneo-release/GPT3_2-7B/model.ckpt-400000.data-00053-of-00064’ saved [498380800/498380800]\n",
            "\n",
            "--2021-09-11 11:01:50--  https://the-eye.eu/public/AI/gptneo-release/GPT3_2-7B/model.ckpt-400000.data-00054-of-00064\n",
            "Reusing existing connection to the-eye.eu:443.\n",
            "HTTP request sent, awaiting response... 200 OK\n",
            "Length: 472104960 (450M) [application/octet-stream]\n",
            "Saving to: ‘the-eye.eu/public/AI/gptneo-release/GPT3_2-7B/model.ckpt-400000.data-00054-of-00064’\n",
            "\n",
            "the-eye.eu/public/A 100%[===================>] 450.23M  78.3MB/s    in 5.9s    \n",
            "\n",
            "2021-09-11 11:01:56 (76.5 MB/s) - ‘the-eye.eu/public/AI/gptneo-release/GPT3_2-7B/model.ckpt-400000.data-00054-of-00064’ saved [472104960/472104960]\n",
            "\n",
            "--2021-09-11 11:01:58--  https://the-eye.eu/public/AI/gptneo-release/GPT3_2-7B/model.ckpt-400000.data-00055-of-00064\n",
            "Reusing existing connection to the-eye.eu:443.\n",
            "HTTP request sent, awaiting response... 200 OK\n",
            "Length: 472064000 (450M) [application/octet-stream]\n",
            "Saving to: ‘the-eye.eu/public/AI/gptneo-release/GPT3_2-7B/model.ckpt-400000.data-00055-of-00064’\n",
            "\n",
            "the-eye.eu/public/A 100%[===================>] 450.20M  47.9MB/s    in 7.2s    \n",
            "\n",
            "2021-09-11 11:02:05 (62.9 MB/s) - ‘the-eye.eu/public/AI/gptneo-release/GPT3_2-7B/model.ckpt-400000.data-00055-of-00064’ saved [472064000/472064000]\n",
            "\n",
            "--2021-09-11 11:02:07--  https://the-eye.eu/public/AI/gptneo-release/GPT3_2-7B/model.ckpt-400000.data-00056-of-00064\n",
            "Reusing existing connection to the-eye.eu:443.\n",
            "HTTP request sent, awaiting response... 200 OK\n",
            "Length: 524503040 (500M) [application/octet-stream]\n",
            "Saving to: ‘the-eye.eu/public/AI/gptneo-release/GPT3_2-7B/model.ckpt-400000.data-00056-of-00064’\n",
            "\n",
            "the-eye.eu/public/A 100%[===================>] 500.21M  80.3MB/s    in 6.5s    \n",
            "\n",
            "2021-09-11 11:02:14 (77.3 MB/s) - ‘the-eye.eu/public/AI/gptneo-release/GPT3_2-7B/model.ckpt-400000.data-00056-of-00064’ saved [524503040/524503040]\n",
            "\n",
            "--2021-09-11 11:02:16--  https://the-eye.eu/public/AI/gptneo-release/GPT3_2-7B/model.ckpt-400000.data-00057-of-00064\n",
            "Reusing existing connection to the-eye.eu:443.\n",
            "HTTP request sent, awaiting response... 200 OK\n",
            "Length: 472104960 (450M) [application/octet-stream]\n",
            "Saving to: ‘the-eye.eu/public/AI/gptneo-release/GPT3_2-7B/model.ckpt-400000.data-00057-of-00064’\n",
            "\n",
            "the-eye.eu/public/A 100%[===================>] 450.23M  80.3MB/s    in 6.0s    \n",
            "\n",
            "2021-09-11 11:02:22 (75.0 MB/s) - ‘the-eye.eu/public/AI/gptneo-release/GPT3_2-7B/model.ckpt-400000.data-00057-of-00064’ saved [472104960/472104960]\n",
            "\n",
            "--2021-09-11 11:02:24--  https://the-eye.eu/public/AI/gptneo-release/GPT3_2-7B/model.ckpt-400000.data-00058-of-00064\n",
            "Reusing existing connection to the-eye.eu:443.\n",
            "HTTP request sent, awaiting response... 200 OK\n",
            "Length: 471982080 (450M) [application/octet-stream]\n",
            "Saving to: ‘the-eye.eu/public/AI/gptneo-release/GPT3_2-7B/model.ckpt-400000.data-00058-of-00064’\n",
            "\n",
            "the-eye.eu/public/A 100%[===================>] 450.12M  80.1MB/s    in 5.8s    \n",
            "\n",
            "2021-09-11 11:02:30 (78.1 MB/s) - ‘the-eye.eu/public/AI/gptneo-release/GPT3_2-7B/model.ckpt-400000.data-00058-of-00064’ saved [471982080/471982080]\n",
            "\n",
            "--2021-09-11 11:02:32--  https://the-eye.eu/public/AI/gptneo-release/GPT3_2-7B/model.ckpt-400000.data-00059-of-00064\n",
            "Reusing existing connection to the-eye.eu:443.\n",
            "HTTP request sent, awaiting response... 200 OK\n",
            "Length: 471982080 (450M) [application/octet-stream]\n",
            "Saving to: ‘the-eye.eu/public/AI/gptneo-release/GPT3_2-7B/model.ckpt-400000.data-00059-of-00064’\n",
            "\n",
            "the-eye.eu/public/A 100%[===================>] 450.12M  81.4MB/s    in 5.8s    \n",
            "\n",
            "2021-09-11 11:02:38 (78.2 MB/s) - ‘the-eye.eu/public/AI/gptneo-release/GPT3_2-7B/model.ckpt-400000.data-00059-of-00064’ saved [471982080/471982080]\n",
            "\n",
            "--2021-09-11 11:02:40--  https://the-eye.eu/public/AI/gptneo-release/GPT3_2-7B/model.ckpt-400000.data-00060-of-00064\n",
            "Reusing existing connection to the-eye.eu:443.\n",
            "HTTP request sent, awaiting response... 200 OK\n",
            "Length: 471961600 (450M) [application/octet-stream]\n",
            "Saving to: ‘the-eye.eu/public/AI/gptneo-release/GPT3_2-7B/model.ckpt-400000.data-00060-of-00064’\n",
            "\n",
            "the-eye.eu/public/A 100%[===================>] 450.10M  79.1MB/s    in 5.9s    \n",
            "\n",
            "2021-09-11 11:02:46 (75.7 MB/s) - ‘the-eye.eu/public/AI/gptneo-release/GPT3_2-7B/model.ckpt-400000.data-00060-of-00064’ saved [471961600/471961600]\n",
            "\n",
            "--2021-09-11 11:02:48--  https://the-eye.eu/public/AI/gptneo-release/GPT3_2-7B/model.ckpt-400000.data-00061-of-00064\n",
            "Reusing existing connection to the-eye.eu:443.\n",
            "HTTP request sent, awaiting response... 200 OK\n",
            "Length: 471961600 (450M) [application/octet-stream]\n",
            "Saving to: ‘the-eye.eu/public/AI/gptneo-release/GPT3_2-7B/model.ckpt-400000.data-00061-of-00064’\n",
            "\n",
            "the-eye.eu/public/A 100%[===================>] 450.10M  77.8MB/s    in 6.0s    \n",
            "\n",
            "2021-09-11 11:02:54 (75.1 MB/s) - ‘the-eye.eu/public/AI/gptneo-release/GPT3_2-7B/model.ckpt-400000.data-00061-of-00064’ saved [471961600/471961600]\n",
            "\n",
            "--2021-09-11 11:02:56--  https://the-eye.eu/public/AI/gptneo-release/GPT3_2-7B/model.ckpt-400000.data-00062-of-00064\n",
            "Reusing existing connection to the-eye.eu:443.\n",
            "HTTP request sent, awaiting response... 200 OK\n",
            "Length: 524400640 (500M) [application/octet-stream]\n",
            "Saving to: ‘the-eye.eu/public/AI/gptneo-release/GPT3_2-7B/model.ckpt-400000.data-00062-of-00064’\n",
            "\n",
            "the-eye.eu/public/A 100%[===================>] 500.11M  82.3MB/s    in 6.5s    \n",
            "\n",
            "2021-09-11 11:03:02 (76.6 MB/s) - ‘the-eye.eu/public/AI/gptneo-release/GPT3_2-7B/model.ckpt-400000.data-00062-of-00064’ saved [524400640/524400640]\n",
            "\n",
            "--2021-09-11 11:03:04--  https://the-eye.eu/public/AI/gptneo-release/GPT3_2-7B/model.ckpt-400000.data-00063-of-00064\n",
            "Reusing existing connection to the-eye.eu:443.\n",
            "HTTP request sent, awaiting response... 200 OK\n",
            "Length: 524503040 (500M) [application/octet-stream]\n",
            "Saving to: ‘the-eye.eu/public/AI/gptneo-release/GPT3_2-7B/model.ckpt-400000.data-00063-of-00064’\n",
            "\n",
            "the-eye.eu/public/A 100%[===================>] 500.21M  76.9MB/s    in 6.6s    \n",
            "\n",
            "2021-09-11 11:03:11 (76.2 MB/s) - ‘the-eye.eu/public/AI/gptneo-release/GPT3_2-7B/model.ckpt-400000.data-00063-of-00064’ saved [524503040/524503040]\n",
            "\n",
            "--2021-09-11 11:03:13--  https://the-eye.eu/public/AI/gptneo-release/GPT3_2-7B/model.ckpt-400000.index\n",
            "Reusing existing connection to the-eye.eu:443.\n",
            "HTTP request sent, awaiting response... 200 OK\n",
            "Length: 20435 (20K) [application/octet-stream]\n",
            "Saving to: ‘the-eye.eu/public/AI/gptneo-release/GPT3_2-7B/model.ckpt-400000.index’\n",
            "\n",
            "the-eye.eu/public/A 100%[===================>]  19.96K  --.-KB/s    in 0s      \n",
            "\n",
            "2021-09-11 11:03:13 (229 MB/s) - ‘the-eye.eu/public/AI/gptneo-release/GPT3_2-7B/model.ckpt-400000.index’ saved [20435/20435]\n",
            "\n",
            "--2021-09-11 11:03:15--  https://the-eye.eu/public/AI/gptneo-release/GPT3_2-7B/model.ckpt-400000.meta\n",
            "Reusing existing connection to the-eye.eu:443.\n",
            "HTTP request sent, awaiting response... 200 OK\n",
            "Length: 48971563 (47M) [application/octet-stream]\n",
            "Saving to: ‘the-eye.eu/public/AI/gptneo-release/GPT3_2-7B/model.ckpt-400000.meta’\n",
            "\n",
            "the-eye.eu/public/A 100%[===================>]  46.70M  54.9MB/s    in 0.9s    \n",
            "\n",
            "2021-09-11 11:03:16 (54.9 MB/s) - ‘the-eye.eu/public/AI/gptneo-release/GPT3_2-7B/model.ckpt-400000.meta’ saved [48971563/48971563]\n",
            "\n",
            "FINISHED --2021-09-11 11:03:16--\n",
            "Total wall clock time: 10m 13s\n",
            "Downloaded: 70 files, 30G in 7m 43s (65.6 MB/s)\n"
          ]
        }
      ]
    },
    {
      "cell_type": "code",
      "metadata": {
        "id": "GU3BDNJN_ZXE",
        "colab": {
          "base_uri": "https://localhost:8080/"
        },
        "outputId": "9fc66345-7653-4a62-90b0-c0b611eb44c7"
      },
      "source": [
        "# upload to your bucket\n",
        "bucket_base = \"gs://\" + path_to_cloud_bucket.replace('gs://', '').split('/')[0]\n",
        "!gsutil -m cp -r $path_to_local_weights $bucket_base"
      ],
      "execution_count": 8,
      "outputs": [
        {
          "output_type": "stream",
          "name": "stdout",
          "text": [
            "Copying file:///content/GPTNeo/the-eye.eu/public/AI/gptneo-release/GPT3_2-7B/model.ckpt-400000.data-00014-of-00064 [Content-Type=application/octet-stream]...\n",
            "/ [0/68 files][    0.0 B/ 29.7 GiB]   0% Done                                   \rCopying file:///content/GPTNeo/the-eye.eu/public/AI/gptneo-release/GPT3_2-7B/model.ckpt-400000.data-00045-of-00064 [Content-Type=application/octet-stream]...\n",
            "==> NOTE: You are uploading one or more large file(s), which would run\n",
            "significantly faster if you enable parallel composite uploads. This\n",
            "feature can be enabled by editing the\n",
            "\"parallel_composite_upload_threshold\" value in your .boto\n",
            "configuration file. However, note that if you do this large files will\n",
            "be uploaded as `composite objects\n",
            "<https://cloud.google.com/storage/docs/composite-objects>`_,which\n",
            "means that any user who downloads such objects will need to have a\n",
            "compiled crcmod installed (see \"gsutil help crcmod\"). This is because\n",
            "without a compiled crcmod, computing checksums on composite objects is\n",
            "so slow that gsutil disables downloads of composite objects.\n",
            "\n",
            "/ [0/68 files][    0.0 B/ 29.7 GiB]   0% Done                                   \rCopying file:///content/GPTNeo/the-eye.eu/public/AI/gptneo-release/GPT3_2-7B/model.ckpt-400000.data-00008-of-00064 [Content-Type=application/octet-stream]...\n",
            "/ [0/68 files][    0.0 B/ 29.7 GiB]   0% Done                                   \rCopying file:///content/GPTNeo/the-eye.eu/public/AI/gptneo-release/GPT3_2-7B/model.ckpt-400000.data-00041-of-00064 [Content-Type=application/octet-stream]...\n",
            "/ [0/68 files][    0.0 B/ 29.7 GiB]   0% Done                                   \rCopying file:///content/GPTNeo/the-eye.eu/public/AI/gptneo-release/GPT3_2-7B/model.ckpt-400000.data-00032-of-00064 [Content-Type=application/octet-stream]...\n",
            "/ [0/68 files][    0.0 B/ 29.7 GiB]   0% Done                                   \rCopying file:///content/GPTNeo/the-eye.eu/public/AI/gptneo-release/GPT3_2-7B/model.ckpt-400000.data-00030-of-00064 [Content-Type=application/octet-stream]...\n",
            "Copying file:///content/GPTNeo/the-eye.eu/public/AI/gptneo-release/GPT3_2-7B/model.ckpt-400000.data-00060-of-00064 [Content-Type=application/octet-stream]...\n",
            "/ [0/68 files][    0.0 B/ 29.7 GiB]   0% Done                                   \r/ [0/68 files][    0.0 B/ 29.7 GiB]   0% Done                                   \rCopying file:///content/GPTNeo/the-eye.eu/public/AI/gptneo-release/GPT3_2-7B/model.ckpt-400000.data-00051-of-00064 [Content-Type=application/octet-stream]...\n",
            "/ [0/68 files][    0.0 B/ 29.7 GiB]   0% Done                                   \rCopying file:///content/GPTNeo/the-eye.eu/public/AI/gptneo-release/GPT3_2-7B/model.ckpt-400000.data-00056-of-00064 [Content-Type=application/octet-stream]...\n",
            "Copying file:///content/GPTNeo/the-eye.eu/public/AI/gptneo-release/GPT3_2-7B/model.ckpt-400000.data-00033-of-00064 [Content-Type=application/octet-stream]...\n",
            "Copying file:///content/GPTNeo/the-eye.eu/public/AI/gptneo-release/GPT3_2-7B/model.ckpt-400000.data-00034-of-00064 [Content-Type=application/octet-stream]...\n",
            "Copying file:///content/GPTNeo/the-eye.eu/public/AI/gptneo-release/GPT3_2-7B/model.ckpt-400000.data-00054-of-00064 [Content-Type=application/octet-stream]...\n",
            "Copying file:///content/GPTNeo/the-eye.eu/public/AI/gptneo-release/GPT3_2-7B/model.ckpt-400000.data-00001-of-00064 [Content-Type=application/octet-stream]...\n",
            "Copying file:///content/GPTNeo/the-eye.eu/public/AI/gptneo-release/GPT3_2-7B/model.ckpt-400000.data-00062-of-00064 [Content-Type=application/octet-stream]...\n",
            "Copying file:///content/GPTNeo/the-eye.eu/public/AI/gptneo-release/GPT3_2-7B/model.ckpt-400000.data-00042-of-00064 [Content-Type=application/octet-stream]...\n",
            "Copying file:///content/GPTNeo/the-eye.eu/public/AI/gptneo-release/GPT3_2-7B/model.ckpt-400000.data-00049-of-00064 [Content-Type=application/octet-stream]...\n",
            "Copying file:///content/GPTNeo/the-eye.eu/public/AI/gptneo-release/GPT3_2-7B/model.ckpt-400000.data-00057-of-00064 [Content-Type=application/octet-stream]...\n",
            "Copying file:///content/GPTNeo/the-eye.eu/public/AI/gptneo-release/GPT3_2-7B/model.ckpt-400000.data-00004-of-00064 [Content-Type=application/octet-stream]...\n",
            "Copying file:///content/GPTNeo/the-eye.eu/public/AI/gptneo-release/GPT3_2-7B/model.ckpt-400000.meta [Content-Type=application/octet-stream]...\n",
            "Copying file:///content/GPTNeo/the-eye.eu/public/AI/gptneo-release/GPT3_2-7B/model.ckpt-400000.data-00019-of-00064 [Content-Type=application/octet-stream]...\n",
            "Copying file:///content/GPTNeo/the-eye.eu/public/AI/gptneo-release/GPT3_2-7B/model.ckpt-400000.data-00046-of-00064 [Content-Type=application/octet-stream]...\n",
            "Copying file:///content/GPTNeo/the-eye.eu/public/AI/gptneo-release/GPT3_2-7B/model.ckpt-400000.data-00021-of-00064 [Content-Type=application/octet-stream]...\n",
            "Copying file:///content/GPTNeo/the-eye.eu/public/AI/gptneo-release/GPT3_2-7B/model.ckpt-400000.data-00031-of-00064 [Content-Type=application/octet-stream]...\n",
            "Copying file:///content/GPTNeo/the-eye.eu/public/AI/gptneo-release/GPT3_2-7B/model.ckpt-400000.data-00022-of-00064 [Content-Type=application/octet-stream]...\n",
            "Copying file:///content/GPTNeo/the-eye.eu/public/AI/gptneo-release/GPT3_2-7B/model.ckpt-400000.data-00000-of-00064 [Content-Type=application/octet-stream]...\n",
            "Copying file:///content/GPTNeo/the-eye.eu/public/AI/gptneo-release/GPT3_2-7B/model.ckpt-400000.data-00023-of-00064 [Content-Type=application/octet-stream]...\n",
            "Copying file:///content/GPTNeo/the-eye.eu/public/AI/gptneo-release/GPT3_2-7B/model.ckpt-400000.data-00020-of-00064 [Content-Type=application/octet-stream]...\n",
            "Copying file:///content/GPTNeo/the-eye.eu/public/AI/gptneo-release/GPT3_2-7B/model.ckpt-400000.data-00039-of-00064 [Content-Type=application/octet-stream]...\n",
            "Copying file:///content/GPTNeo/the-eye.eu/public/AI/gptneo-release/GPT3_2-7B/model.ckpt-400000.data-00038-of-00064 [Content-Type=application/octet-stream]...\n",
            "Copying file:///content/GPTNeo/the-eye.eu/public/AI/gptneo-release/GPT3_2-7B/config.json [Content-Type=application/json]...\n",
            "Copying file:///content/GPTNeo/the-eye.eu/public/AI/gptneo-release/GPT3_2-7B/model.ckpt-400000.data-00035-of-00064 [Content-Type=application/octet-stream]...\n",
            "Copying file:///content/GPTNeo/the-eye.eu/public/AI/gptneo-release/GPT3_2-7B/model.ckpt-400000.data-00036-of-00064 [Content-Type=application/octet-stream]...\n",
            "Copying file:///content/GPTNeo/the-eye.eu/public/AI/gptneo-release/GPT3_2-7B/model.ckpt-400000.data-00011-of-00064 [Content-Type=application/octet-stream]...\n",
            "Copying file:///content/GPTNeo/the-eye.eu/public/AI/gptneo-release/GPT3_2-7B/model.ckpt-400000.index [Content-Type=application/octet-stream]...\n",
            "Copying file:///content/GPTNeo/the-eye.eu/public/AI/gptneo-release/GPT3_2-7B/model.ckpt-400000.data-00061-of-00064 [Content-Type=application/octet-stream]...\n",
            "Copying file:///content/GPTNeo/the-eye.eu/public/AI/gptneo-release/GPT3_2-7B/model.ckpt-400000.data-00017-of-00064 [Content-Type=application/octet-stream]...\n",
            "Copying file:///content/GPTNeo/the-eye.eu/public/AI/gptneo-release/GPT3_2-7B/model.ckpt-400000.data-00047-of-00064 [Content-Type=application/octet-stream]...\n",
            "Copying file:///content/GPTNeo/the-eye.eu/public/AI/gptneo-release/GPT3_2-7B/model.ckpt-400000.data-00024-of-00064 [Content-Type=application/octet-stream]...\n",
            "Copying file:///content/GPTNeo/the-eye.eu/public/AI/gptneo-release/GPT3_2-7B/model.ckpt-400000.data-00026-of-00064 [Content-Type=application/octet-stream]...\n",
            "Copying file:///content/GPTNeo/the-eye.eu/public/AI/gptneo-release/GPT3_2-7B/model.ckpt-400000.data-00058-of-00064 [Content-Type=application/octet-stream]...\n",
            "Copying file:///content/GPTNeo/the-eye.eu/public/AI/gptneo-release/GPT3_2-7B/model.ckpt-400000.data-00013-of-00064 [Content-Type=application/octet-stream]...\n",
            "Copying file:///content/GPTNeo/the-eye.eu/public/AI/gptneo-release/GPT3_2-7B/model.ckpt-400000.data-00040-of-00064 [Content-Type=application/octet-stream]...\n",
            "Copying file:///content/GPTNeo/the-eye.eu/public/AI/gptneo-release/GPT3_2-7B/model.ckpt-400000.data-00005-of-00064 [Content-Type=application/octet-stream]...\n",
            "Copying file:///content/GPTNeo/the-eye.eu/public/AI/gptneo-release/GPT3_2-7B/model.ckpt-400000.data-00003-of-00064 [Content-Type=application/octet-stream]...\n",
            "Copying file:///content/GPTNeo/the-eye.eu/public/AI/gptneo-release/GPT3_2-7B/model.ckpt-400000.data-00044-of-00064 [Content-Type=application/octet-stream]...\n",
            "Copying file:///content/GPTNeo/the-eye.eu/public/AI/gptneo-release/GPT3_2-7B/model.ckpt-400000.data-00007-of-00064 [Content-Type=application/octet-stream]...\n",
            "Copying file:///content/GPTNeo/the-eye.eu/public/AI/gptneo-release/GPT3_2-7B/model.ckpt-400000.data-00043-of-00064 [Content-Type=application/octet-stream]...\n",
            "Copying file:///content/GPTNeo/the-eye.eu/public/AI/gptneo-release/GPT3_2-7B/model.ckpt-400000.data-00010-of-00064 [Content-Type=application/octet-stream]...\n",
            "Copying file:///content/GPTNeo/the-eye.eu/public/AI/gptneo-release/GPT3_2-7B/model.ckpt-400000.data-00027-of-00064 [Content-Type=application/octet-stream]...\n",
            "Copying file:///content/GPTNeo/the-eye.eu/public/AI/gptneo-release/GPT3_2-7B/model.ckpt-400000.data-00018-of-00064 [Content-Type=application/octet-stream]...\n",
            "Copying file:///content/GPTNeo/the-eye.eu/public/AI/gptneo-release/GPT3_2-7B/model.ckpt-400000.data-00016-of-00064 [Content-Type=application/octet-stream]...\n",
            "Copying file:///content/GPTNeo/the-eye.eu/public/AI/gptneo-release/GPT3_2-7B/checkpoint [Content-Type=application/octet-stream]...\n",
            "Copying file:///content/GPTNeo/the-eye.eu/public/AI/gptneo-release/GPT3_2-7B/model.ckpt-400000.data-00052-of-00064 [Content-Type=application/octet-stream]...\n",
            "Copying file:///content/GPTNeo/the-eye.eu/public/AI/gptneo-release/GPT3_2-7B/model.ckpt-400000.data-00050-of-00064 [Content-Type=application/octet-stream]...\n",
            "Copying file:///content/GPTNeo/the-eye.eu/public/AI/gptneo-release/GPT3_2-7B/model.ckpt-400000.data-00029-of-00064 [Content-Type=application/octet-stream]...\n",
            "Copying file:///content/GPTNeo/the-eye.eu/public/AI/gptneo-release/GPT3_2-7B/model.ckpt-400000.data-00055-of-00064 [Content-Type=application/octet-stream]...\n",
            "Copying file:///content/GPTNeo/the-eye.eu/public/AI/gptneo-release/GPT3_2-7B/model.ckpt-400000.data-00048-of-00064 [Content-Type=application/octet-stream]...\n",
            "Copying file:///content/GPTNeo/the-eye.eu/public/AI/gptneo-release/GPT3_2-7B/model.ckpt-400000.data-00009-of-00064 [Content-Type=application/octet-stream]...\n",
            "Copying file:///content/GPTNeo/the-eye.eu/public/AI/gptneo-release/GPT3_2-7B/model.ckpt-400000.data-00025-of-00064 [Content-Type=application/octet-stream]...\n",
            "Copying file:///content/GPTNeo/the-eye.eu/public/AI/gptneo-release/GPT3_2-7B/model.ckpt-400000.data-00015-of-00064 [Content-Type=application/octet-stream]...\n",
            "Copying file:///content/GPTNeo/the-eye.eu/public/AI/gptneo-release/GPT3_2-7B/model.ckpt-400000.data-00063-of-00064 [Content-Type=application/octet-stream]...\n",
            "Copying file:///content/GPTNeo/the-eye.eu/public/AI/gptneo-release/GPT3_2-7B/model.ckpt-400000.data-00002-of-00064 [Content-Type=application/octet-stream]...\n",
            "Copying file:///content/GPTNeo/the-eye.eu/public/AI/gptneo-release/GPT3_2-7B/model.ckpt-400000.data-00006-of-00064 [Content-Type=application/octet-stream]...\n",
            "Copying file:///content/GPTNeo/the-eye.eu/public/AI/gptneo-release/GPT3_2-7B/model.ckpt-400000.data-00053-of-00064 [Content-Type=application/octet-stream]...\n",
            "Copying file:///content/GPTNeo/the-eye.eu/public/AI/gptneo-release/GPT3_2-7B/model.ckpt-400000.data-00037-of-00064 [Content-Type=application/octet-stream]...\n",
            "Copying file:///content/GPTNeo/the-eye.eu/public/AI/gptneo-release/GPT3_2-7B/model.ckpt-400000.data-00012-of-00064 [Content-Type=application/octet-stream]...\n",
            "Copying file:///content/GPTNeo/the-eye.eu/public/AI/gptneo-release/GPT3_2-7B/model.ckpt-400000.data-00059-of-00064 [Content-Type=application/octet-stream]...\n",
            "Copying file:///content/GPTNeo/the-eye.eu/public/AI/gptneo-release/GPT3_2-7B/model.ckpt-400000.data-00028-of-00064 [Content-Type=application/octet-stream]...\n",
            "| [68/68 files][ 29.7 GiB/ 29.7 GiB] 100% Done  50.3 MiB/s ETA 00:00:00         \n",
            "Operation completed over 68 objects/29.7 GiB.                                    \n"
          ]
        }
      ]
    },
    {
      "cell_type": "markdown",
      "metadata": {
        "id": "bnqkKBTOn0ox"
      },
      "source": [
        "If everything has worked successfully you should now see your model listed in your bucket below."
      ]
    },
    {
      "cell_type": "code",
      "metadata": {
        "id": "80t9MMionm2h",
        "colab": {
          "base_uri": "https://localhost:8080/"
        },
        "outputId": "a4fadbd4-9c23-49db-fa1e-f341d7e83887"
      },
      "source": [
        "!gsutil ls $bucket_base"
      ],
      "execution_count": 9,
      "outputs": [
        {
          "output_type": "stream",
          "name": "stdout",
          "text": [
            "gs://terraformgenerator/GPT3_2-7B/\n",
            "gs://terraformgenerator/ml/\n"
          ]
        }
      ]
    },
    {
      "cell_type": "markdown",
      "metadata": {
        "id": "QDKL8fCSoApL"
      },
      "source": [
        "Now we want to make a few modifications to the model config in order to get training / sampling working on colab.\n",
        "\n",
        "If you are just sampling from our pretrained models, you can leave the settings as is, run the cell below, then move on to the `Sample from your model` section.\n",
        "\n",
        "If finetuning, you can change parameters below. \n",
        "\n",
        "* `path_to_model` should point to the model weights location in your cloud bucket, and will default to `$bucket_base/${pretrained_model}` if nothing is entered.\n",
        "\n",
        "* `batch_size` is your train batch size - if you're encountering memory errors, try lowering this.\n",
        "\n",
        "* `dataset_name` is the name of your dataset, if nothing is entered, this should default to the dataset you selected in the `Prepare Data` section.\n",
        "\n",
        "* `mesh_shape` specifies the way the model will be divided up across the TPU cores. We suggest leaving this alone unless you know what you're doing.\n",
        "\n",
        "* `train_steps` specifies how many steps you want the model to finetune for. We set this to 1000 for demonstrative purposes but you may need to increase this a little depending on your goals. If you are just sampling from the model, you can leave this as is.\n",
        "\n",
        "* `steps_per_checkpoint` specifies how often you want to save model weights during training.\n",
        "\n"
      ]
    },
    {
      "cell_type": "code",
      "metadata": {
        "id": "Laf0slBMDCUj",
        "colab": {
          "base_uri": "https://localhost:8080/"
        },
        "outputId": "f4256447-8c2d-4ca5-a041-57f3dcabe29a"
      },
      "source": [
        "# @title Modify config for colab. \n",
        "  \n",
        "import json\n",
        "from pprint import pprint\n",
        "\n",
        "path_to_model = \"\" #@param {type:\"string\"}\n",
        "batch_size = 8 #@param {type:\"integer\"}\n",
        "dset = \"\"  #@param {type:\"string\"}\n",
        "mesh_shape = \"x:4,y:2\" #@param {type:\"string\"}\n",
        "train_steps = 1000 #@param {type:\"integer\"}\n",
        "steps_per_checkpoint = 500 #@param {type:\"integer\"}\n",
        "start_step = 400000 if pretrained_model == \"GPT3_2-7B\" else 362000\n",
        "\n",
        "if path_to_model == \"\":\n",
        "  path_to_model = f'{bucket_base.strip(\"/\")}/{pretrained_model}'\n",
        "print(f'MODEL PATH: {path_to_model}\\n')\n",
        "\n",
        "if dset == \"\" and dataset != \"Sampling_Only\":\n",
        "  dset = dataset\n",
        "elif dataset is None and dset == \"\":\n",
        "  dset = \"pile\"\n",
        "\n",
        "def pad_to_multiple_of(n, mult):\n",
        "  \"\"\"\n",
        "  pads n to a multiple of mult\n",
        "  \"\"\"\n",
        "  extra = n % mult\n",
        "  if extra > 0:\n",
        "      n = n + mult - extra\n",
        "  return n\n",
        "\n",
        "with open(f'{path_to_local_weights}/config.json', 'r') as f:\n",
        "  data = json.load(f)\n",
        "  pprint(data)\n",
        "  dset_val = [[dset, None, None, None]] if dset != \"\" else data[\"datasets\"]\n",
        "  mods = {\n",
        "          \"mesh_shape\": mesh_shape,\n",
        "          \"layout\": \"intermediate_expanded:x,heads:x,memory_length:y,embd:y\",\n",
        "          \"model_path\": path_to_model,\n",
        "          \"datasets\": dset_val,\n",
        "          \"train_steps\": start_step + train_steps,\n",
        "          \"eval_steps\": 0,\n",
        "          \"train_batch_size\": batch_size,\n",
        "          \"predict_batch_size\": batch_size\n",
        "        }\n",
        "  data.update(mods)\n",
        "  print('\\n--->\\n')\n",
        "  pprint(data)\n",
        "  with open(f'configs/{pretrained_model}.json', 'w') as outfile:\n",
        "    json.dump(data, outfile, indent=2)"
      ],
      "execution_count": 26,
      "outputs": [
        {
          "output_type": "stream",
          "name": "stdout",
          "text": [
            "MODEL PATH: gs://terraformgenerator/GPT3_2-7B\n",
            "\n",
            "{'activation_function': 'gelu',\n",
            " 'ada_epsilon1': '1e-30',\n",
            " 'ada_epsilon2': 0.001,\n",
            " 'attention_types': [[['global', 'local'], 16]],\n",
            " 'attn_dropout': 0,\n",
            " 'beta1': 0.9,\n",
            " 'beta2': 0.95,\n",
            " 'datasets': [['pile', None, None, None]],\n",
            " 'embed_dropout': 0,\n",
            " 'eos_id': 50256,\n",
            " 'epsilon': 1e-08,\n",
            " 'eval_batch_size': 128,\n",
            " 'eval_steps': 10,\n",
            " 'gradient_clipping': 1.0,\n",
            " 'iterations': 500,\n",
            " 'layout': 'batch:x,embd:y',\n",
            " 'lr': 0.00016,\n",
            " 'lr_decay': 'cosine',\n",
            " 'lr_decay_end': 300000,\n",
            " 'mesh_shape': 'x:64,y:4',\n",
            " 'model_path': 'gs://neo-d/models/GPT3_2-7B',\n",
            " 'n_ctx': 2048,\n",
            " 'n_embd': 2560,\n",
            " 'n_head': 20,\n",
            " 'n_layer': 32,\n",
            " 'n_vocab': 50257,\n",
            " 'opt_name': 'adam',\n",
            " 'padding_id': 50257,\n",
            " 'predict_batch_size': 1,\n",
            " 'predict_steps': 0,\n",
            " 'recompute_grad': True,\n",
            " 'res_dropout': 0,\n",
            " 'scale_by_depth': True,\n",
            " 'scale_by_in': False,\n",
            " 'tokens_per_mb_per_replica': 4096,\n",
            " 'train_batch_size': 512,\n",
            " 'train_steps': 400000,\n",
            " 'warmup_steps': 3000,\n",
            " 'weight_decay': 0}\n",
            "\n",
            "--->\n",
            "\n",
            "{'activation_function': 'gelu',\n",
            " 'ada_epsilon1': '1e-30',\n",
            " 'ada_epsilon2': 0.001,\n",
            " 'attention_types': [[['global', 'local'], 16]],\n",
            " 'attn_dropout': 0,\n",
            " 'beta1': 0.9,\n",
            " 'beta2': 0.95,\n",
            " 'datasets': [[None, None, None, None]],\n",
            " 'embed_dropout': 0,\n",
            " 'eos_id': 50256,\n",
            " 'epsilon': 1e-08,\n",
            " 'eval_batch_size': 128,\n",
            " 'eval_steps': 0,\n",
            " 'gradient_clipping': 1.0,\n",
            " 'iterations': 500,\n",
            " 'layout': 'intermediate_expanded:x,heads:x,memory_length:y,embd:y',\n",
            " 'lr': 0.00016,\n",
            " 'lr_decay': 'cosine',\n",
            " 'lr_decay_end': 300000,\n",
            " 'mesh_shape': 'x:4,y:2',\n",
            " 'model_path': 'gs://terraformgenerator/GPT3_2-7B',\n",
            " 'n_ctx': 2048,\n",
            " 'n_embd': 2560,\n",
            " 'n_head': 20,\n",
            " 'n_layer': 32,\n",
            " 'n_vocab': 50257,\n",
            " 'opt_name': 'adam',\n",
            " 'padding_id': 50257,\n",
            " 'predict_batch_size': 8,\n",
            " 'predict_steps': 0,\n",
            " 'recompute_grad': True,\n",
            " 'res_dropout': 0,\n",
            " 'scale_by_depth': True,\n",
            " 'scale_by_in': False,\n",
            " 'tokens_per_mb_per_replica': 4096,\n",
            " 'train_batch_size': 8,\n",
            " 'train_steps': 401000,\n",
            " 'warmup_steps': 3000,\n",
            " 'weight_decay': 0}\n"
          ]
        }
      ]
    },
    {
      "cell_type": "markdown",
      "metadata": {
        "id": "fPwwbPCA6O7r"
      },
      "source": [
        "### Begin Fine-Tuning\n",
        "\n",
        "If you are fine-tuning the pretrained model, this line of code will begin the training."
      ]
    },
    {
      "cell_type": "code",
      "metadata": {
        "id": "0YlaHzyXuMaj",
        "colab": {
          "base_uri": "https://localhost:8080/"
        },
        "outputId": "056bc0a8-d7d4-41a0-b86a-f393c4a605bb"
      },
      "source": [
        "!python3 main.py --model $pretrained_model --steps_per_checkpoint $steps_per_checkpoint --tpu colab"
      ],
      "execution_count": 27,
      "outputs": [
        {
          "output_type": "stream",
          "name": "stdout",
          "text": [
            "WARNING:tensorflow:From /usr/local/lib/python3.7/dist-packages/tensorflow/python/compat/v2_compat.py:96: disable_resource_variables (from tensorflow.python.ops.variable_scope) is deprecated and will be removed in a future version.\n",
            "Instructions for updating:\n",
            "non-resource variables are not supported in the long term\n",
            "Traceback (most recent call last):\n",
            "  File \"main.py\", line 257, in <module>\n",
            "    main(args)\n",
            "  File \"main.py\", line 56, in main\n",
            "    params = fetch_model_params(args.model)\n",
            "  File \"/content/GPTNeo/configs.py\", line 29, in fetch_model_params\n",
            "    assert dataset_id in DATASETS, f\"Dataset '{dataset_id}' was not found under dataset_configs/ folder. Please follow the example.json in that folder.\"\n",
            "AssertionError: Dataset 'None' was not found under dataset_configs/ folder. Please follow the example.json in that folder.\n"
          ]
        }
      ]
    },
    {
      "cell_type": "markdown",
      "metadata": {
        "id": "I_HxtEmBGTGT"
      },
      "source": [
        "### Sample from your model\n",
        "\n",
        "Once training is finished, (or your pretrained model is on your bucket), you can run the same command with the --predict flag to sample from your model.\n",
        "\n",
        "To pass in a prompt, save it to a .txt file, and pass in the name of the file with the --prompt flag.\n",
        "\n",
        "use the cell below to enter your prompt, and run it to save it to example_prompt.txt.\n",
        "\n",
        "You may need to decrease the predict batch size in your config if you're facing OOM errors.\n",
        "\n",
        "Let's see if the GPTNeo model can finish coding itself, with a sample prompt consisting of the beginning of a `torch.nn.Module`:"
      ]
    },
    {
      "cell_type": "code",
      "metadata": {
        "id": "CQE1Y5wPFx7h",
        "colab": {
          "base_uri": "https://localhost:8080/"
        },
        "outputId": "3aa967ed-faae-47c6-b9ae-037d2b9734ba"
      },
      "source": [
        "%%writefile example_prompt.txt\n",
        "\n",
        "class GPT(nn.Module):\n",
        "    \"\"\"  the full GPT language model, with a context size of block_size \"\"\"\n",
        "\n",
        "    def __init__(self, config):\n",
        "        super().__init__()\n",
        "\n",
        "        # input embedding stem\n",
        "        self.tok_emb = nn.Embedding(config.vocab_size, config.n_embd)\n",
        "        self.pos_emb = nn.Parameter(torch.zeros(1, config.block_size, config.n_embd))\n",
        "        self.drop = nn.Dropout(config.embd_pdrop)\n",
        "        # transformer\n",
        "        self.blocks = nn.Sequential(*[Block(config) for _ in range(config.n_layer)])\n",
        "        # decoder head\n",
        "        self.ln_f = nn.LayerNorm(config.n_embd)\n",
        "        self.head = nn.Linear(config.n_embd, config.vocab_size, bias=False)\n",
        "\n",
        "        self.block_size = config.block_size\n",
        "        self.apply(self._init_weights)\n",
        "\n",
        "        logger.info(\"number of parameters: %e\", sum(p.numel() for p in self.parameters()))"
      ],
      "execution_count": 29,
      "outputs": [
        {
          "output_type": "stream",
          "name": "stdout",
          "text": [
            "Overwriting example_prompt.txt\n"
          ]
        }
      ]
    },
    {
      "cell_type": "code",
      "metadata": {
        "id": "sf_5E4fHFQIh",
        "colab": {
          "base_uri": "https://localhost:8080/"
        },
        "outputId": "2870b2d2-88d5-433c-a1b3-daf62f954635"
      },
      "source": [
        "!python3 main.py --model $pretrained_model --steps_per_checkpoint 500 --tpu colab --predict --prompt example_prompt.txt"
      ],
      "execution_count": 30,
      "outputs": [
        {
          "output_type": "stream",
          "name": "stdout",
          "text": [
            "WARNING:tensorflow:From /usr/local/lib/python3.7/dist-packages/tensorflow/python/compat/v2_compat.py:96: disable_resource_variables (from tensorflow.python.ops.variable_scope) is deprecated and will be removed in a future version.\n",
            "Instructions for updating:\n",
            "non-resource variables are not supported in the long term\n",
            "Traceback (most recent call last):\n",
            "  File \"main.py\", line 257, in <module>\n",
            "    main(args)\n",
            "  File \"main.py\", line 56, in main\n",
            "    params = fetch_model_params(args.model)\n",
            "  File \"/content/GPTNeo/configs.py\", line 29, in fetch_model_params\n",
            "    assert dataset_id in DATASETS, f\"Dataset '{dataset_id}' was not found under dataset_configs/ folder. Please follow the example.json in that folder.\"\n",
            "AssertionError: Dataset 'None' was not found under dataset_configs/ folder. Please follow the example.json in that folder.\n"
          ]
        }
      ]
    },
    {
      "cell_type": "markdown",
      "metadata": {
        "id": "nE9VImzHaI0z"
      },
      "source": [
        "# Evaluating the model"
      ]
    },
    {
      "cell_type": "markdown",
      "metadata": {
        "id": "XGGbkgaFfp6f"
      },
      "source": [
        "This section assumes you are using a pretrained model and relies on variables created in the `Pretrained model` section."
      ]
    },
    {
      "cell_type": "markdown",
      "metadata": {
        "id": "I45yUIpbaLUJ"
      },
      "source": [
        "## Wikitext"
      ]
    },
    {
      "cell_type": "markdown",
      "metadata": {
        "id": "zwBDB9U2keFV"
      },
      "source": [
        "Download the wikitext test set:\n"
      ]
    },
    {
      "cell_type": "code",
      "metadata": {
        "id": "uuugiBmJaNxf",
        "colab": {
          "base_uri": "https://localhost:8080/"
        },
        "outputId": "8b503a73-2fc9-481d-9b79-f1473668cf44"
      },
      "source": [
        "wikitext103_src = \"https://s3.amazonaws.com/research.metamind.io/wikitext/wikitext-103-raw-v1.zip\"\n",
        "!wget $wikitext103_src\n",
        "!unzip wikitext-103-raw-v1.zip"
      ],
      "execution_count": 16,
      "outputs": [
        {
          "output_type": "stream",
          "name": "stdout",
          "text": [
            "--2021-09-11 11:33:10--  https://s3.amazonaws.com/research.metamind.io/wikitext/wikitext-103-raw-v1.zip\n",
            "Resolving s3.amazonaws.com (s3.amazonaws.com)... 52.217.133.112\n",
            "Connecting to s3.amazonaws.com (s3.amazonaws.com)|52.217.133.112|:443... connected.\n",
            "HTTP request sent, awaiting response... 200 OK\n",
            "Length: 191984949 (183M) [application/zip]\n",
            "Saving to: ‘wikitext-103-raw-v1.zip’\n",
            "\n",
            "wikitext-103-raw-v1 100%[===================>] 183.09M  80.2MB/s    in 2.3s    \n",
            "\n",
            "2021-09-11 11:33:12 (80.2 MB/s) - ‘wikitext-103-raw-v1.zip’ saved [191984949/191984949]\n",
            "\n",
            "Archive:  wikitext-103-raw-v1.zip\n",
            "   creating: wikitext-103-raw/\n",
            "  inflating: wikitext-103-raw/wiki.test.raw  \n",
            "  inflating: wikitext-103-raw/wiki.valid.raw  \n",
            "  inflating: wikitext-103-raw/wiki.train.raw  \n"
          ]
        }
      ]
    },
    {
      "cell_type": "markdown",
      "metadata": {
        "id": "J5wf3QWKkhZt"
      },
      "source": [
        "Tokenize and upload to bucket:\n"
      ]
    },
    {
      "cell_type": "code",
      "metadata": {
        "id": "6mo8UUtDdctH",
        "colab": {
          "base_uri": "https://localhost:8080/"
        },
        "outputId": "cc20e77a-8b95-4eb1-dd59-5e1313239963"
      },
      "source": [
        "\n",
        "!mkdir wikitext\n",
        "!mv /content/GPTNeo/wikitext-103-raw/wiki.test.raw wikitext/wikitext_test.txt\n",
        "\n",
        "# Tokenize Data\n",
        "!python data/create_tfrecords.py --input_dir wikitext --name wikitext --files_per 1000 --output_dir wikitext_tokenized --write_dataset_config --processes 1 --wikitext-detokenize\n",
        "\n",
        "# copy the data to your bucket\n",
        "if not path_to_cloud_bucket.endswith('/'):\n",
        "  path_to_cloud_bucket += '/'\n",
        "copy_loc = path_to_cloud_bucket \n",
        "!gsutil -m cp -r wikitext_tokenized $copy_loc\n",
        "!gsutil ls $path_to_cloud_bucket"
      ],
      "execution_count": 17,
      "outputs": [
        {
          "output_type": "stream",
          "name": "stdout",
          "text": [
            "mkdir: cannot create directory ‘wikitext’: File exists\n",
            "Downloading: 100% 1.04M/1.04M [00:00<00:00, 7.17MB/s]\n",
            "Downloading: 100% 456k/456k [00:00<00:00, 4.16MB/s]\n",
            "Downloading: 100% 1.36M/1.36M [00:00<00:00, 8.36MB/s]\n",
            "Writing TFRecord Files to wikitext_tokenized/. Parsed 0 input files. files_written : 0it [00:00, ?it/s]{'discarded': 0, 'processed': 1, 'successful': 1}\n",
            "Writing TFRecord Files to wikitext_tokenized/. Parsed 0 input files. files_written : 0it [00:01, ?it/s]\n",
            "Copying file://wikitext_tokenized/wikitext_0_139.tfrecords [Content-Type=application/octet-stream]...\n",
            "/ [1/1 files][578.6 KiB/578.6 KiB] 100% Done                                    \n",
            "Operation completed over 1 objects/578.6 KiB.                                    \n",
            "gs://terraformgenerator/ml/GPTNeo/\n",
            "gs://terraformgenerator/ml/GPTNeo/wikitext_tokenized/\n"
          ]
        }
      ]
    },
    {
      "cell_type": "markdown",
      "metadata": {
        "id": "GE84TUd1fAzf"
      },
      "source": [
        "Now make a dataset config that points to the tokenized wikitext data:"
      ]
    },
    {
      "cell_type": "code",
      "metadata": {
        "id": "Z5UU7DQeeY0S",
        "colab": {
          "base_uri": "https://localhost:8080/"
        },
        "outputId": "767b0720-333f-4983-c2b7-129f8103e824"
      },
      "source": [
        "%%writefile configs/dataset_configs/wikitext.json\n",
        "\n",
        "{\n",
        "  \"path\": \"\",\n",
        "  \"eval_path\": \"gs://terraformgenerator/ml/GPTNeo/wikitext_tokenized/*.tfrecords\",\n",
        "  \"n_vocab\": 50256,\n",
        "  \"tokenizer_is_pretrained\": true,\n",
        "  \"tokenizer_path\": \"gpt2\",\n",
        "  \"eos_id\": 50256,\n",
        "  \"padding_id\": 50257\n",
        "}\n"
      ],
      "execution_count": 21,
      "outputs": [
        {
          "output_type": "stream",
          "name": "stdout",
          "text": [
            "Overwriting configs/dataset_configs/wikitext.json\n"
          ]
        }
      ]
    },
    {
      "cell_type": "markdown",
      "metadata": {
        "id": "egvdwIOqfFER"
      },
      "source": [
        "And update your model config to point to that dataset:\n"
      ]
    },
    {
      "cell_type": "code",
      "metadata": {
        "id": "AtdoIFMgfOe8",
        "colab": {
          "base_uri": "https://localhost:8080/"
        },
        "outputId": "9c4e9604-380b-429c-9cb5-cf4d5d51e90b"
      },
      "source": [
        "# @title Modify config for wikitext. \n",
        "  \n",
        "import json\n",
        "from pprint import pprint\n",
        "\n",
        "batch_size = 8 #@param {type:\"integer\"}\n",
        "assert pretrained_model is not None\n",
        "with open(f'configs/{pretrained_model}.json', 'r') as f:\n",
        "  data = json.load(f)\n",
        "  pprint(data)\n",
        "  dset_val = [[\"wikitext\", None, None, None]]\n",
        "  mods = {\n",
        "          \"datasets\": dset_val,\n",
        "          \"eval_steps\": 139 // batch_size,\n",
        "          \"train_batch_size\": batch_size,\n",
        "          \"eval_batch_size\": batch_size,\n",
        "        }\n",
        "  data.update(mods)\n",
        "  print('\\n--->\\n')\n",
        "  pprint(data)\n",
        "  with open(f'configs/{pretrained_model}.json', 'w') as outfile:\n",
        "    json.dump(data, outfile, indent=2)"
      ],
      "execution_count": 22,
      "outputs": [
        {
          "output_type": "stream",
          "name": "stdout",
          "text": [
            "{'activation_function': 'gelu',\n",
            " 'ada_epsilon1': '1e-30',\n",
            " 'ada_epsilon2': 0.001,\n",
            " 'attention_types': [[['global', 'local'], 16]],\n",
            " 'attn_dropout': 0,\n",
            " 'beta1': 0.9,\n",
            " 'beta2': 0.95,\n",
            " 'datasets': [['wikitext', None, None, None]],\n",
            " 'embed_dropout': 0,\n",
            " 'eos_id': 50256,\n",
            " 'epsilon': 1e-08,\n",
            " 'eval_batch_size': 8,\n",
            " 'eval_steps': 17,\n",
            " 'gradient_clipping': 1.0,\n",
            " 'iterations': 500,\n",
            " 'layout': 'intermediate_expanded:x,heads:x,memory_length:y,embd:y',\n",
            " 'lr': 0.00016,\n",
            " 'lr_decay': 'cosine',\n",
            " 'lr_decay_end': 300000,\n",
            " 'mesh_shape': 'x:4,y:2',\n",
            " 'model_path': 'gs://terraformgenerator/GPT3_2-7B',\n",
            " 'n_ctx': 2048,\n",
            " 'n_embd': 2560,\n",
            " 'n_head': 20,\n",
            " 'n_layer': 32,\n",
            " 'n_vocab': 50257,\n",
            " 'opt_name': 'adam',\n",
            " 'padding_id': 50257,\n",
            " 'predict_batch_size': 8,\n",
            " 'predict_steps': 0,\n",
            " 'recompute_grad': True,\n",
            " 'res_dropout': 0,\n",
            " 'scale_by_depth': True,\n",
            " 'scale_by_in': False,\n",
            " 'tokens_per_mb_per_replica': 4096,\n",
            " 'train_batch_size': 8,\n",
            " 'train_steps': 401000,\n",
            " 'warmup_steps': 3000,\n",
            " 'weight_decay': 0}\n",
            "\n",
            "--->\n",
            "\n",
            "{'activation_function': 'gelu',\n",
            " 'ada_epsilon1': '1e-30',\n",
            " 'ada_epsilon2': 0.001,\n",
            " 'attention_types': [[['global', 'local'], 16]],\n",
            " 'attn_dropout': 0,\n",
            " 'beta1': 0.9,\n",
            " 'beta2': 0.95,\n",
            " 'datasets': [['wikitext', None, None, None]],\n",
            " 'embed_dropout': 0,\n",
            " 'eos_id': 50256,\n",
            " 'epsilon': 1e-08,\n",
            " 'eval_batch_size': 8,\n",
            " 'eval_steps': 17,\n",
            " 'gradient_clipping': 1.0,\n",
            " 'iterations': 500,\n",
            " 'layout': 'intermediate_expanded:x,heads:x,memory_length:y,embd:y',\n",
            " 'lr': 0.00016,\n",
            " 'lr_decay': 'cosine',\n",
            " 'lr_decay_end': 300000,\n",
            " 'mesh_shape': 'x:4,y:2',\n",
            " 'model_path': 'gs://terraformgenerator/GPT3_2-7B',\n",
            " 'n_ctx': 2048,\n",
            " 'n_embd': 2560,\n",
            " 'n_head': 20,\n",
            " 'n_layer': 32,\n",
            " 'n_vocab': 50257,\n",
            " 'opt_name': 'adam',\n",
            " 'padding_id': 50257,\n",
            " 'predict_batch_size': 8,\n",
            " 'predict_steps': 0,\n",
            " 'recompute_grad': True,\n",
            " 'res_dropout': 0,\n",
            " 'scale_by_depth': True,\n",
            " 'scale_by_in': False,\n",
            " 'tokens_per_mb_per_replica': 4096,\n",
            " 'train_batch_size': 8,\n",
            " 'train_steps': 401000,\n",
            " 'warmup_steps': 3000,\n",
            " 'weight_decay': 0}\n"
          ]
        }
      ]
    },
    {
      "cell_type": "markdown",
      "metadata": {
        "id": "U2d5eTHEg6Xj"
      },
      "source": [
        "Now run model in eval mode over tokenized data:"
      ]
    },
    {
      "cell_type": "code",
      "metadata": {
        "id": "s1Uz3PXzg5Pm",
        "colab": {
          "base_uri": "https://localhost:8080/"
        },
        "outputId": "ba8cb9d7-0ef0-4361-f1e7-1ebd0dd54083"
      },
      "source": [
        "!python3 main.py --eval --tpu colab --model $pretrained_model"
      ],
      "execution_count": 23,
      "outputs": [
        {
          "output_type": "stream",
          "name": "stdout",
          "text": [
            "WARNING:tensorflow:From /usr/local/lib/python3.7/dist-packages/tensorflow/python/compat/v2_compat.py:96: disable_resource_variables (from tensorflow.python.ops.variable_scope) is deprecated and will be removed in a future version.\n",
            "Instructions for updating:\n",
            "non-resource variables are not supported in the long term\n",
            "Current step 400000\n",
            "Saving config to gs://terraformgenerator/GPT3_2-7B\n",
            "2021-09-11 11:40:25.118764: I tensorflow/core/platform/cpu_feature_guard.cc:143] Your CPU supports instructions that this TensorFlow binary was not compiled to use: AVX2 FMA\n",
            "2021-09-11 11:40:25.125062: I tensorflow/core/platform/profile_utils/cpu_utils.cc:102] CPU Frequency: 2199995000 Hz\n",
            "2021-09-11 11:40:25.125317: I tensorflow/compiler/xla/service/service.cc:168] XLA service 0x55f3cef7b9c0 initialized for platform Host (this does not guarantee that XLA will be used). Devices:\n",
            "2021-09-11 11:40:25.125399: I tensorflow/compiler/xla/service/service.cc:176]   StreamExecutor device (0): Host, Default Version\n",
            "2021-09-11 11:40:25.127906: I tensorflow/stream_executor/platform/default/dso_loader.cc:44] Successfully opened dynamic library libcuda.so.1\n",
            "2021-09-11 11:40:25.139989: E tensorflow/stream_executor/cuda/cuda_driver.cc:313] failed call to cuInit: CUDA_ERROR_NO_DEVICE: no CUDA-capable device is detected\n",
            "2021-09-11 11:40:25.140043: I tensorflow/stream_executor/cuda/cuda_diagnostics.cc:156] kernel driver does not appear to be running on this host (9168825f9b7e): /proc/driver/nvidia/version does not exist\n",
            "Done!\n",
            "params = defaultdict(<function fetch_model_params.<locals>.<lambda> at 0x7f73373d10e0>, {'n_head': 20, 'n_vocab': 50257, 'embed_dropout': 0, 'lr': 0.00016, 'lr_decay': 'cosine', 'warmup_steps': 3000, 'beta1': 0.9, 'beta2': 0.95, 'epsilon': 1e-08, 'ada_epsilon1': '1e-30', 'ada_epsilon2': 0.001, 'opt_name': 'adam', 'weight_decay': 0, 'train_batch_size': 8, 'attn_dropout': 0, 'train_steps': 401000, 'lr_decay_end': 300000, 'eval_steps': 17, 'predict_steps': 0, 'res_dropout': 0, 'eval_batch_size': 8, 'predict_batch_size': 8, 'iterations': 500, 'n_embd': 2560, 'datasets': [['wikitext', None, None, None]], 'model_path': 'gs://terraformgenerator/GPT3_2-7B', 'n_ctx': 2048, 'n_layer': 32, 'scale_by_depth': True, 'scale_by_in': False, 'attention_types': ['global', 'local', 'global', 'local', 'global', 'local', 'global', 'local', 'global', 'local', 'global', 'local', 'global', 'local', 'global', 'local', 'global', 'local', 'global', 'local', 'global', 'local', 'global', 'local', 'global', 'local', 'global', 'local', 'global', 'local', 'global', 'local'], 'mesh_shape': 'x:4,y:2', 'layout': 'intermediate_expanded:x,heads:x,memory_length:y,embd:y', 'activation_function': 'gelu', 'recompute_grad': True, 'gradient_clipping': 1.0, 'tokens_per_mb_per_replica': 4096, 'padding_id': 50257, 'eos_id': 50256, 'dataset_configs': {'wikitext': {'path': '', 'eval_path': 'gs://terraformgenerator/ml/GPTNeo/wikitext_tokenized/*.tfrecords', 'n_vocab': 50256, 'tokenizer_is_pretrained': True, 'tokenizer_path': 'gpt2', 'eos_id': 50256, 'padding_id': 50257}}, 'mlm_training': False, 'causal': True, 'num_cores': 8, 'auto_layout': False, 'auto_layout_and_mesh_shape': False, 'use_tpu': True, 'gpu_ids': ['device:GPU:0'], 'steps_per_checkpoint': 5000, 'predict': False, 'model': 'GPT', 'export': False, 'sampling_use_entmax': False, 'moe_layers': None, 'slow_sampling': False})\n",
            "Using config: {'_model_dir': 'gs://terraformgenerator/GPT3_2-7B', '_tf_random_seed': None, '_save_summary_steps': 500, '_save_checkpoints_steps': None, '_save_checkpoints_secs': None, '_session_config': allow_soft_placement: true\n",
            "cluster_def {\n",
            "  job {\n",
            "    name: \"worker\"\n",
            "    tasks {\n",
            "      key: 0\n",
            "      value: \"10.62.76.74:8470\"\n",
            "    }\n",
            "  }\n",
            "}\n",
            "isolate_session_state: true\n",
            ", '_keep_checkpoint_max': 5, '_keep_checkpoint_every_n_hours': 10000, '_log_step_count_steps': None, '_train_distribute': None, '_device_fn': None, '_protocol': None, '_eval_distribute': None, '_experimental_distribute': None, '_experimental_max_worker_delay_secs': None, '_session_creation_timeout_secs': 7200, '_service': None, '_cluster_spec': ClusterSpec({'worker': ['10.62.76.74:8470']}), '_task_type': 'worker', '_task_id': 0, '_global_id_in_cluster': 0, '_master': 'grpc://10.62.76.74:8470', '_evaluation_master': 'grpc://10.62.76.74:8470', '_is_chief': True, '_num_ps_replicas': 0, '_num_worker_replicas': 1, '_tpu_config': TPUConfig(iterations_per_loop=500, num_shards=8, num_cores_per_replica=1, per_host_input_for_training=4, tpu_job_name=None, initial_infeed_sleep_secs=None, input_partition_dims=None, eval_training_input_configuration=2, experimental_host_call_every_n_steps=1), '_cluster': <tensorflow.python.distribute.cluster_resolver.tpu_cluster_resolver.TPUClusterResolver object at 0x7f73373cc8d0>}\n",
            "_TPUContext: eval_on_tpu True\n",
            "Running evaluation...\n",
            "Querying Tensorflow master (grpc://10.62.76.74:8470) for TPU system metadata.\n",
            "2021-09-11 11:40:25.928363: W tensorflow/core/distributed_runtime/rpc/grpc_session.cc:373] GrpcSession::ListDevices will initialize the session with an empty graph and other defaults because the session has not yet been created.\n",
            "Initializing TPU system (master: grpc://10.62.76.74:8470) to fetch topology for model parallelism. This might take a while.\n",
            "Found TPU system:\n",
            "*** Num TPU Cores: 8\n",
            "*** Num TPU Workers: 1\n",
            "*** Num TPU Cores Per Worker: 8\n",
            "*** Available Device: _DeviceAttributes(/job:worker/replica:0/task:0/device:CPU:0, CPU, -1, -5659924740445457479)\n",
            "*** Available Device: _DeviceAttributes(/job:worker/replica:0/task:0/device:TPU:0, TPU, 17179869184, -6175244719267483131)\n",
            "*** Available Device: _DeviceAttributes(/job:worker/replica:0/task:0/device:TPU:1, TPU, 17179869184, -8780238963730414964)\n",
            "*** Available Device: _DeviceAttributes(/job:worker/replica:0/task:0/device:TPU:2, TPU, 17179869184, -9011973616527348233)\n",
            "*** Available Device: _DeviceAttributes(/job:worker/replica:0/task:0/device:TPU:3, TPU, 17179869184, -6081811251704228061)\n",
            "*** Available Device: _DeviceAttributes(/job:worker/replica:0/task:0/device:TPU:4, TPU, 17179869184, -2388028598828030771)\n",
            "*** Available Device: _DeviceAttributes(/job:worker/replica:0/task:0/device:TPU:5, TPU, 17179869184, 202525140798439164)\n",
            "*** Available Device: _DeviceAttributes(/job:worker/replica:0/task:0/device:TPU:6, TPU, 17179869184, -3646802047660312786)\n",
            "*** Available Device: _DeviceAttributes(/job:worker/replica:0/task:0/device:TPU:7, TPU, 17179869184, 1216685598498752362)\n",
            "*** Available Device: _DeviceAttributes(/job:worker/replica:0/task:0/device:TPU_SYSTEM:0, TPU_SYSTEM, 8589934592, -4633452168870787869)\n",
            "*** Available Device: _DeviceAttributes(/job:worker/replica:0/task:0/device:XLA_CPU:0, XLA_CPU, 17179869184, 1799758482900212005)\n",
            "From /usr/local/lib/python3.7/dist-packages/tensorflow/python/ops/resource_variable_ops.py:1666: calling BaseResourceVariable.__init__ (from tensorflow.python.ops.resource_variable_ops) with constraint is deprecated and will be removed in a future version.\n",
            "Instructions for updating:\n",
            "If using Keras pass *_constraint arguments to layers.\n",
            "Calling model_fn.\n",
            "WARNING:root:Changing batch size with sequential_input() will result in some data being skipped or repeated. Please ensure your batch size stays constant throughout training.\n",
            "evaluation_loop marked as finished\n",
            "Reraising captured error\n",
            "Traceback (most recent call last):\n",
            "  File \"main.py\", line 257, in <module>\n",
            "    main(args)\n",
            "  File \"main.py\", line 221, in main\n",
            "    run_eval()\n",
            "  File \"main.py\", line 201, in run_eval\n",
            "    steps=params[\"eval_steps\"])\n",
            "  File \"/usr/local/lib/python3.7/dist-packages/tensorflow_estimator/python/estimator/tpu/tpu_estimator.py\", line 3104, in evaluate\n",
            "    rendezvous.raise_errors()\n",
            "  File \"/usr/local/lib/python3.7/dist-packages/tensorflow_estimator/python/estimator/tpu/error_handling.py\", line 150, in raise_errors\n",
            "    six.reraise(typ, value, traceback)\n",
            "  File \"/usr/local/lib/python3.7/dist-packages/six.py\", line 703, in reraise\n",
            "    raise value\n",
            "  File \"/usr/local/lib/python3.7/dist-packages/tensorflow_estimator/python/estimator/tpu/tpu_estimator.py\", line 3099, in evaluate\n",
            "    name=name)\n",
            "  File \"/usr/local/lib/python3.7/dist-packages/tensorflow_estimator/python/estimator/estimator.py\", line 468, in evaluate\n",
            "    name=name)\n",
            "  File \"/usr/local/lib/python3.7/dist-packages/tensorflow_estimator/python/estimator/estimator.py\", line 511, in _actual_eval\n",
            "    return _evaluate()\n",
            "  File \"/usr/local/lib/python3.7/dist-packages/tensorflow_estimator/python/estimator/estimator.py\", line 493, in _evaluate\n",
            "    self._evaluate_build_graph(input_fn, hooks, checkpoint_path))\n",
            "  File \"/usr/local/lib/python3.7/dist-packages/tensorflow_estimator/python/estimator/estimator.py\", line 1535, in _evaluate_build_graph\n",
            "    self._call_model_fn_eval(input_fn, self.config))\n",
            "  File \"/usr/local/lib/python3.7/dist-packages/tensorflow_estimator/python/estimator/estimator.py\", line 1571, in _call_model_fn_eval\n",
            "    config)\n",
            "  File \"/usr/local/lib/python3.7/dist-packages/tensorflow_estimator/python/estimator/tpu/tpu_estimator.py\", line 2915, in _call_model_fn\n",
            "    config)\n",
            "  File \"/usr/local/lib/python3.7/dist-packages/tensorflow_estimator/python/estimator/estimator.py\", line 1170, in _call_model_fn\n",
            "    model_fn_results = self._model_fn(features=features, **kwargs)\n",
            "  File \"/usr/local/lib/python3.7/dist-packages/tensorflow_estimator/python/estimator/tpu/tpu_estimator.py\", line 3195, in _model_fn\n",
            "    input_holders.generate_infeed_enqueue_ops_and_dequeue_fn())\n",
            "  File \"/usr/local/lib/python3.7/dist-packages/tensorflow_estimator/python/estimator/tpu/tpu_estimator.py\", line 1465, in generate_infeed_enqueue_ops_and_dequeue_fn\n",
            "    self._invoke_input_fn_and_record_structure())\n",
            "  File \"/usr/local/lib/python3.7/dist-packages/tensorflow_estimator/python/estimator/tpu/tpu_estimator.py\", line 1528, in _invoke_input_fn_and_record_structure\n",
            "    enqueue_ops.append(wrap_fn(device=host_device, op_fn=enqueue_ops_fn))\n",
            "  File \"/usr/local/lib/python3.7/dist-packages/tensorflow_estimator/python/estimator/tpu/tpu_estimator.py\", line 3713, in _wrap_computation_in_while_loop\n",
            "    parallel_iterations=1)\n",
            "  File \"/usr/local/lib/python3.7/dist-packages/tensorflow/python/ops/control_flow_ops.py\", line 2766, in while_loop\n",
            "    return_same_structure)\n",
            "  File \"/usr/local/lib/python3.7/dist-packages/tensorflow/python/ops/control_flow_ops.py\", line 2248, in BuildLoop\n",
            "    pred, body, original_loop_vars, loop_vars, shape_invariants)\n",
            "  File \"/usr/local/lib/python3.7/dist-packages/tensorflow/python/ops/control_flow_ops.py\", line 2173, in _BuildLoop\n",
            "    body_result = body(*packed_vars_for_body)\n",
            "  File \"/usr/local/lib/python3.7/dist-packages/tensorflow_estimator/python/estimator/tpu/tpu_estimator.py\", line 3702, in computation\n",
            "    with tf.control_dependencies(op_fn()):\n",
            "  File \"/usr/local/lib/python3.7/dist-packages/tensorflow_estimator/python/estimator/tpu/tpu_estimator.py\", line 1200, in enqueue_ops_fn\n",
            "    placement_function=device_function_impl)\n",
            "  File \"/usr/local/lib/python3.7/dist-packages/tensorflow/python/tpu/tpu_feed.py\", line 611, in generate_enqueue_ops\n",
            "    for (shard, index) in zip(sharded_inputs, xrange(self.number_of_shards))\n",
            "  File \"/usr/local/lib/python3.7/dist-packages/tensorflow/python/tpu/tpu_feed.py\", line 611, in <listcomp>\n",
            "    for (shard, index) in zip(sharded_inputs, xrange(self.number_of_shards))\n",
            "  File \"/usr/local/lib/python3.7/dist-packages/tensorflow_estimator/python/estimator/tpu/tpu_estimator.py\", line 1145, in tpu_ordinal_function_impl\n",
            "    if ctx.device_assignment:\n",
            "  File \"/usr/local/lib/python3.7/dist-packages/tensorflow_estimator/python/estimator/tpu/tpu_context.py\", line 350, in device_assignment\n",
            "    if self._model_parallelism_enabled else None)\n",
            "  File \"/usr/local/lib/python3.7/dist-packages/tensorflow_estimator/python/estimator/tpu/tpu_context.py\", line 298, in _get_device_assignment\n",
            "    num_replicas=self.num_replicas)\n",
            "  File \"/usr/local/lib/python3.7/dist-packages/tensorflow/python/tpu/device_assignment.py\", line 258, in device_assignment\n",
            "    topology = Topology(serialized=topology)\n",
            "  File \"/usr/local/lib/python3.7/dist-packages/tensorflow/python/tpu/topology.py\", line 78, in __init__\n",
            "    self._parse_topology(serialized)\n",
            "  File \"/usr/local/lib/python3.7/dist-packages/tensorflow/python/tpu/topology.py\", line 104, in _parse_topology\n",
            "    \"entries; got {}\".format(self._mesh_shape))\n",
            "ValueError: `mesh_shape` must be a vector of size 3 with positive entries; got [2 2 1 2]\n"
          ]
        }
      ]
    },
    {
      "cell_type": "markdown",
      "metadata": {
        "id": "9dbkPVcMhVaR"
      },
      "source": [
        "## Lambada\n",
        "\n",
        "Lambada eval is built into the codebase and can be run by adding a field to your model config"
      ]
    },
    {
      "cell_type": "code",
      "metadata": {
        "cellView": "form",
        "id": "z4FJXOlJiEYo"
      },
      "source": [
        "# @title Modify config for Lambada. \n",
        "  \n",
        "import json\n",
        "from pprint import pprint\n",
        "\n",
        "batch_size = 8 #@param {type:\"integer\"}\n",
        "assert pretrained_model is not None\n",
        "with open(f'configs/{pretrained_model}.json', 'r') as f:\n",
        "  data = json.load(f)\n",
        "  mods = {\n",
        "          \"datasets\": dset_val,\n",
        "          \"eval_steps\": 0,\n",
        "          \"train_batch_size\": batch_size,\n",
        "          \"eval_batch_size\": batch_size,\n",
        "          \"eval_tasks\": [\"lambada\"]\n",
        "        }\n",
        "  data.update(mods)\n",
        "  print('\\n--->\\n')\n",
        "  pprint(data)\n",
        "  with open(f'configs/{pretrained_model}.json', 'w') as outfile:\n",
        "    json.dump(data, outfile, indent=2)"
      ],
      "execution_count": null,
      "outputs": []
    },
    {
      "cell_type": "markdown",
      "metadata": {
        "id": "Upp-bGMriVPK"
      },
      "source": [
        "Now run the eval:"
      ]
    },
    {
      "cell_type": "code",
      "metadata": {
        "id": "OOA1YZDRiUhN"
      },
      "source": [
        "!python3 main.py --eval --tpu colab --model $pretrained_model"
      ],
      "execution_count": null,
      "outputs": []
    }
  ]
}